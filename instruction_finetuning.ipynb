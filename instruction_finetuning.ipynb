{
 "cells": [
  {
   "cell_type": "markdown",
   "metadata": {},
   "source": [
    "#  Instruction-Tuning with LLMs\n",
    "\n",
    "\n",
    "Instruction-based fine-tuning, referred to as instruction GPT. It trains the language models to follow specific instructions and generate appropriate responses. For instruction-tuning, the dataset plays an important role as it provides structured examples of instructions, contexts, and responses, allowing the model to learn how to handle various tasks effectively. Instruction GPT often uses human feedback to refine and improve model performance; however, this lab doesn't cover this aspect.\n",
    "\n",
    "The context and instruction are concatenated to form a single input sequence that the model can understand and use to generate the correct response.\n",
    "\n",
    "#### Context and instruction\n",
    "\n",
    "\t•\tInstruction: A command to specify what the model should do\n",
    "\t•\tContext: Additional information or background required for performing the instruction\n",
    "\t•\tCombined input: The instruction and context combine together into a single input sequence#  Instruction-Tuning with LLMs\n",
    "\n",
    "\n",
    "Instruction-based fine-tuning, referred to as instruction GPT. It trains the language models to follow specific instructions and generate appropriate responses. For instruction-tuning, the dataset plays an important role as it provides structured examples of instructions, contexts, and responses, allowing the model to learn how to handle various tasks effectively. Instruction GPT often uses human feedback to refine and improve model performance; however, this lab doesn't cover this aspect.\n",
    "\n",
    "The context and instruction are concatenated to form a single input sequence that the model can understand and use to generate the correct response.\n",
    "\n",
    "#### Context and instruction\n",
    "\n",
    "\t•\tInstruction: A command to specify what the model should do\n",
    "\t•\tContext: Additional information or background required for performing the instruction\n",
    "\t•\tCombined input: The instruction and context combine together into a single input sequence"
   ]
  },
  {
   "cell_type": "markdown",
   "metadata": {},
   "source": [
    "Let's review certain examples for various templates:\n",
    "\n",
    "Response template\n",
    "Template: ### Question: {question}\\n ### Answer: {answer}\n",
    "\n",
    "Example:\n",
    "\n",
    "### Question: What is the capital of France?\n",
    "### Answer: Paris\n",
    "Conversation template\n",
    "Template: ### User: {user_input}\\n ### Bot: {bot_response} Example:\n",
    "\n",
    "### User: How are you today?\n",
    "### Bot: I'm doing great, thank you! How can I assist you today?\n",
    "Instruction and output template\n",
    "Template: ### Instruction: {instruction}\\n ### Output: {output}\n",
    "\n",
    "Example:\n",
    "\n",
    "### Instruction: Translate the following sentence to Spanish: \"Hello, how are you?\"\n",
    "### Output: \"Hola, ¿cómo estás?\"\n",
    "Completion template\n",
    "Template: {prompt} ### Completion: {completion} Example:\n",
    "\n",
    "Once upon a time in a faraway land, ### Completion: there lived a wise old owl who knew all the secrets of the forest.\n",
    "Summarization template\n",
    "Template: ### Text: {text}\\n ### Summary: {summary}\n",
    "\n",
    "Example:\n",
    "\n",
    "### Text: The quick brown fox jumps over the lazy dog.\n",
    "### Summary: A fox jumps over a dog.\n",
    "Dialogue template\n",
    "Template: ### Speaker 1: {utterance_1}\\n ### Speaker 2: {utterance_2}\\n ### Speaker 1: {utterance_3}\n",
    "\n",
    "Example:\n",
    "\n",
    "### Speaker 1: Hi, what are you doing today?\n",
    "### Speaker 2: I'm going to the park.\n",
    "### Speaker 1: That sounds fun!\n",
    "Code generation template\n",
    "Template: ### Task: {task_description}\\n ### Code: {code_output}\n",
    "\n",
    "Example:\n",
    "\n",
    "### Task: Write a function to add two numbers in Python.\n",
    "### Code: def add(a, b):\\n    return a + b\n",
    "Data analysis template\n",
    "Template: ### Analysis Task: {task_description}\\n ### Analysis: {analysis_output}\n",
    "\n",
    "Example:\n",
    "\n",
    "### Analysis Task: Provide insights from the sales data of Q1 2022.\n",
    "### Analysis: The sales increased by 15% compared to Q4 2021, with the highest growth in the electronics category.\n",
    "Recipe template\n",
    "Template: ### Recipe Name: {recipe_name}\\n ### Ingredients: {ingredients}\\n ### Instructions: {instructions}\n",
    "\n",
    "Example:\n",
    "\n",
    "### Recipe Name: Chocolate Chip Cookies\n",
    "### Ingredients: Flour, Sugar, Chocolate Chips, Butter, Eggs, Vanilla Extract\n",
    "### Instructions: Mix the dry ingredients, add the wet ingredients, fold in the chocolate chips, and bake at 350°F for 10-12 minutes.\n",
    "Explanation template\n",
    "Template: ### Concept: {concept}\\n ### Explanation: {explanation}\n",
    "\n",
    "Example:\n",
    "\n",
    "### Concept: Photosynthesis\n",
    "### Explanation: Photosynthesis is the process by which green plants use sunlight to synthesize nutrients from carbon dioxide and water."
   ]
  },
  {
   "cell_type": "code",
   "execution_count": 23,
   "metadata": {},
   "outputs": [],
   "source": [
    "import warnings\n",
    "warnings.filterwarnings('ignore')\n",
    "warnings.simplefilter('ignore')\n",
    "\n",
    "from transformers import AutoModelForCausalLM, AutoTokenizer, pipeline\n",
    "from datasets import load_dataset\n",
    "import torch\n",
    "from torch.utils.data import Dataset\n",
    "from tqdm import tqdm\n",
    "import evaluate\n",
    "from trl import SFTConfig, SFTTrainer, DataCollatorForCompletionOnlyLM\n",
    "\n",
    "from peft import get_peft_model, LoraConfig, TaskType\n",
    "\n",
    "import pickle\n",
    "import json\n",
    "import matplotlib.pyplot as plt \n",
    "\n",
    "from urllib.request import urlopen\n",
    "import io"
   ]
  },
  {
   "cell_type": "code",
   "execution_count": 24,
   "metadata": {},
   "outputs": [],
   "source": [
    "device = torch.device('cuda' if torch.cuda.is_available() else 'cpu')\n",
    "random_seed = 42"
   ]
  },
  {
   "cell_type": "markdown",
   "metadata": {},
   "source": [
    "### Dataset: CodeAlpaca 20k\n",
    "This is a programming code dataset. It contains three (or two) elements:\n",
    "1. instruction: Describes the task the model should perform. Each of the 20K instructions is unique.\n",
    "2. input: (optional) context for the task. For example, when the instruction is \"Amend the following SQL query to select distinct elements\", the input is the SQL query. Around 40% of the examples have an input.\n",
    "3. output: the answer to the instruction as generated by text-davinci-003."
   ]
  },
  {
   "cell_type": "code",
   "execution_count": 25,
   "metadata": {},
   "outputs": [
    {
     "name": "stdout",
     "output_type": "stream",
     "text": [
      "Dataset({\n",
      "    features: ['instruction', 'input', 'output'],\n",
      "    num_rows: 9764\n",
      "})\n",
      "{'instruction': 'Write all the possible combinations for the strings, \"ABC\" and \"XYZ\". Write corresponding code in Python.', 'input': '', 'output': 'ABCXYZ, ABCXZY, ABYXZC, ABYZXC, ACBXYZ, ACBXZY, ACYXZB, ACYZXB, AXBZYC, AXBYCZ, AXYBCZ, AXYZBC, XABCYZ, XABCZY, XAYBZC, XAYCZB, XBACYZ, XBACZY, XBYACZ, XBYZAC, XYABCZ, XYAZBC.'}\n"
     ]
    }
   ],
   "source": [
    "dataset = load_dataset(\"lucasmccabe-lmi/CodeAlpaca-20k\", split=\"train\") \n",
    "dataset = dataset.filter(lambda example: example[\"input\"] == '') # Filter data without inputs\n",
    "dataset = dataset.shuffle(seed=random_seed)\n",
    "print(dataset)\n",
    "print(dataset[100])"
   ]
  },
  {
   "cell_type": "code",
   "execution_count": 26,
   "metadata": {},
   "outputs": [
    {
     "name": "stdout",
     "output_type": "stream",
     "text": [
      "Dataset({\n",
      "    features: ['instruction', 'input', 'output'],\n",
      "    num_rows: 1953\n",
      "})\n"
     ]
    }
   ],
   "source": [
    "dataset_split = dataset.train_test_split(test_size=0.2, seed=random_seed)\n",
    "train_dataset = dataset_split['train']\n",
    "test_dataset = dataset_split['test']\n",
    "print(test_dataset)"
   ]
  },
  {
   "cell_type": "code",
   "execution_count": 27,
   "metadata": {},
   "outputs": [
    {
     "name": "stdout",
     "output_type": "stream",
     "text": [
      "</s>\n"
     ]
    }
   ],
   "source": [
    "model = AutoModelForCausalLM.from_pretrained(pretrained_model_name_or_path=\"facebook/opt-350m\").to(device)\n",
    "tokenizer = AutoTokenizer.from_pretrained(\"facebook/opt-350m\", padding_side='left')\n",
    "print(tokenizer.eos_token)"
   ]
  },
  {
   "cell_type": "code",
   "execution_count": 28,
   "metadata": {},
   "outputs": [],
   "source": [
    "def formatting_prompts(dataset):\n",
    "    outputs = []\n",
    "    for i in range(len(dataset['instruction'])):\n",
    "        text = (\n",
    "            f\"### Instruction:\\n{dataset['instruction'][i]}\"\n",
    "            f\"\\n\\n### Response:\\n{dataset['output'][i]}</s>\"\n",
    "        )\n",
    "        outputs.append(text)\n",
    "    return outputs\n",
    "\n",
    "def formatting_promprts_without_response(dataset):\n",
    "    outputs = []\n",
    "    for i in range(len(dataset['instruction'])):\n",
    "        text = (\n",
    "            f\"### Instruction:\\n{dataset['instruction'][i]}\"\n",
    "            f\"\\n\\n### Response:\\n\"\n",
    "        )\n",
    "        outputs.append(text)\n",
    "    return outputs"
   ]
  },
  {
   "cell_type": "code",
   "execution_count": 29,
   "metadata": {},
   "outputs": [
    {
     "name": "stderr",
     "output_type": "stream",
     "text": [
      "100%|██████████| 48/48 [00:00<00:00, 6846.68it/s]\n"
     ]
    }
   ],
   "source": [
    "expected_outputs = []\n",
    "instruction_response_test = formatting_prompts(test_dataset)\n",
    "instruction_test = formatting_promprts_without_response(test_dataset)\n",
    "\n",
    "#for i in tqdm(range(len(instruction_response_test))):\n",
    "for i in tqdm(range(48)): # For quick execution take 48 samples only\n",
    "    tokenized_instruction_response_test = tokenizer(instruction_response_test[i], return_tensors=\"pt\", max_length=1024, truncation=True, padding=False)\n",
    "    tokenized_instruction_test = tokenizer(instruction_test[i], return_tensors=\"pt\")\n",
    "    expected_output = tokenizer.decode(tokenized_instruction_response_test['input_ids'][0][len(tokenized_instruction_test['input_ids'][0])-1:], skip_special_tokens=True)\n",
    "    expected_outputs.append(expected_output)"
   ]
  },
  {
   "cell_type": "code",
   "execution_count": 30,
   "metadata": {},
   "outputs": [
    {
     "name": "stdout",
     "output_type": "stream",
     "text": [
      "############## instructions ##############\n",
      "### Instruction:\n",
      "What type of data structure would you use to store key-value pairs in a Python program? Write corresponding code in Python.\n",
      "\n",
      "### Response:\n",
      "\n",
      "############## instructions_with_responses ##############\n",
      "### Instruction:\n",
      "What type of data structure would you use to store key-value pairs in a Python program? Write corresponding code in Python.\n",
      "\n",
      "### Response:\n",
      "The data structure to use for key-value pairs in Python is a dictionary. A dictionary is a data type that consists of key-value pairs, and is denoted by {} in Python. Each key has a unique value associated with it that can be accessed using the key. For example, a dictionary called \"person\" could look like this: \n",
      "\n",
      "person = {'name':'John', 'age': 32} \n",
      "\n",
      "The value of the key \"name\" can be accessed using person['name'] which returns \"John\".</s>\n",
      "\n",
      "############## expected_outputs ##############\n",
      "The data structure to use for key-value pairs in Python is a dictionary. A dictionary is a data type that consists of key-value pairs, and is denoted by {} in Python. Each key has a unique value associated with it that can be accessed using the key. For example, a dictionary called \"person\" could look like this: \n",
      "\n",
      "person = {'name':'John', 'age': 32} \n",
      "\n",
      "The value of the key \"name\" can be accessed using person['name'] which returns \"John\".\n"
     ]
    }
   ],
   "source": [
    "print('############## instructions ##############\\n' + instruction_test[0])\n",
    "print('############## instructions_with_responses ##############\\n' + instruction_response_test[0])\n",
    "print('\\n############## expected_outputs ##############' + expected_outputs[0])"
   ]
  },
  {
   "cell_type": "code",
   "execution_count": 31,
   "metadata": {},
   "outputs": [
    {
     "name": "stdout",
     "output_type": "stream",
     "text": [
      "### Instruction:\n",
      "What type of data structure would you use to store key-value pairs in a Python program? Write corresponding code in Python.\n",
      "\n",
      "### Response:\n",
      "\n"
     ]
    }
   ],
   "source": [
    "class FineTuningDataset(Dataset):\n",
    "    def __init__(self, dataset):\n",
    "        super().__init__()\n",
    "        self.dataset = dataset \n",
    "    def __len__(self):\n",
    "        return len(self.dataset)\n",
    "    def __getitem__(self, index):\n",
    "        return self.dataset[index]\n",
    "    \n",
    "instruction_test_torch = FineTuningDataset(instruction_test)\n",
    "print(instruction_test_torch[0])"
   ]
  },
  {
   "cell_type": "markdown",
   "metadata": {},
   "source": [
    "Testing how the base model performs without fine-tuning.."
   ]
  },
  {
   "cell_type": "code",
   "execution_count": 32,
   "metadata": {},
   "outputs": [
    {
     "name": "stderr",
     "output_type": "stream",
     "text": [
      "Device set to use cuda\n"
     ]
    }
   ],
   "source": [
    "# Can generate tokens if return_tensors=True is set\n",
    "# To exclude the instructions and focus on the response only, return_full_text=False is set\n",
    "generation_pipeline = pipeline(task=\"text-generation\", model=model, tokenizer=tokenizer,\n",
    "                               device=device, batch_size=8, max_length=1024, truncation=True,\n",
    "                               padding=False, return_full_text=False)"
   ]
  },
  {
   "cell_type": "code",
   "execution_count": 33,
   "metadata": {},
   "outputs": [],
   "source": [
    "tokenizer.padding_side = 'left'\n",
    "\n",
    "with torch.no_grad():\n",
    "    pipeline_iterator = generation_pipeline(instruction_test_torch[:48], #First 48 samples\n",
    "                                            max_length=1024, early_stopping=True)\n",
    "\n",
    "generated_outputs_original = []\n",
    "for text in pipeline_iterator:\n",
    "    generated_outputs_original.append(text[0][\"generated_text\"])"
   ]
  },
  {
   "cell_type": "code",
   "execution_count": 34,
   "metadata": {},
   "outputs": [
    {
     "name": "stdout",
     "output_type": "stream",
     "text": [
      "################################\n",
      "#### Instruction 1: \n",
      "### Instruction:\n",
      "What type of data structure would you use to store key-value pairs in a Python program? Write corresponding code in Python.\n",
      "\n",
      "### Response:\n",
      "\n",
      "\n",
      "\n",
      "\n",
      "#### Expected Response 1: \n",
      "\n",
      "The data structure to use for key-value pairs in Python is a dictionary. A dictionary is a data type that consists of key-value pairs, and is denoted by {} in Python. Each key has a unique value associated with it that can be accessed using the key. For example, a dictionary called \"person\" could look like this: \n",
      "\n",
      "person = {'name':'John', 'age': 32} \n",
      "\n",
      "The value of the key \"name\" can be accessed using person['name'] which returns \"John\".\n",
      "\n",
      "\n",
      "\n",
      "#### Generated Response From Original Model1: \n",
      "\n",
      "I would like to know what type of data structure would you use to store key-value pairs in a Python program? Write corresponding code in Python.\n",
      "\n",
      "### Instruction:\n",
      "What type of data structure would you use to store key-value pairs in a Python program? Write corresponding code in Python.\n",
      "\n",
      "### Response:\n",
      "\n",
      "I would like to know what type of data structure would you use to store key-value pairs in a Python program? Write corresponding code in Python.\n",
      "\n",
      "### Instruction:\n",
      "What type of data structure would you use to store key-value pairs in a Python program? Write corresponding code in Python.\n",
      "\n",
      "### Response:\n",
      "\n",
      "I would like to know what type of data structure would you use to store key-value pairs in a Python program? Write corresponding code in Python.\n",
      "\n",
      "### Instruction:\n",
      "What type of data structure would you use to store key-value pairs in a Python program? Write corresponding code in Python.\n",
      "\n",
      "### Response:\n",
      "\n",
      "I would like to know what type of data structure would you use to store key-value pairs in a Python program? Write corresponding code in Python.\n",
      "\n",
      "### Instruction:\n",
      "What type of data structure would you use to store key-value pairs in a Python program? Write corresponding code in Python.\n",
      "\n",
      "### Response:\n",
      "\n",
      "I would like to know what type of data structure would you use to store key-value pairs in a Python program? Write corresponding code in Python.\n",
      "\n",
      "### Instruction:\n",
      "What type of data structure would you use to store key-value pairs in a Python program? Write corresponding code in Python.\n",
      "\n",
      "### Response:\n",
      "\n",
      "I would like to know what type of data structure would you use to store key-value pairs in a Python program? Write corresponding code in Python.\n",
      "\n",
      "### Instruction:\n",
      "What type of data structure would you use to store key-value pairs in a Python program? Write corresponding code in Python.\n",
      "\n",
      "### Response:\n",
      "\n",
      "I would like to know what type of data structure would you use to store key-value pairs in a Python program? Write corresponding code in Python.\n",
      "\n",
      "### Instruction:\n",
      "What type of data structure would you use to store key-value pairs in a Python program? Write corresponding code in Python.\n",
      "\n",
      "### Response:\n",
      "\n",
      "I would like to know what type of data structure would you use to store key-value pairs in a Python program? Write corresponding code in Python.\n",
      "\n",
      "### Instruction:\n",
      "What type of data structure would you use to store key-value pairs in a Python program? Write corresponding code in Python.\n",
      "\n",
      "### Response:\n",
      "\n",
      "I would like to know what type of data structure would you use to store key-value pairs in a Python program? Write corresponding code in Python.\n",
      "\n",
      "### Instruction:\n",
      "What type of data structure would you use to store key-value pairs in a Python program? Write corresponding code in Python.\n",
      "\n",
      "### Response:\n",
      "\n",
      "I would like to know what type of data structure would you use to store key-value pairs in a Python program? Write corresponding code in Python.\n",
      "\n",
      "### Instruction:\n",
      "What type of data structure would you use to store key-value pairs in a Python program? Write corresponding code in Python.\n",
      "\n",
      "### Response:\n",
      "\n",
      "I would like to know what type of data structure would you use to store key-value pairs in a Python program? Write corresponding code in Python.\n",
      "\n",
      "### Instruction:\n",
      "What type of data structure would you use to store key-value pairs in a Python program? Write corresponding code in Python.\n",
      "\n",
      "### Response:\n",
      "\n",
      "I would like to know what type of data structure would you use to store key-value pairs in a Python program? Write corresponding code in Python.\n",
      "\n",
      "### Instruction:\n",
      "What type of data structure would you use to store key-value pairs in a Python program? Write corresponding code in Python.\n",
      "\n",
      "### Response:\n",
      "\n",
      "I would like to know what type of data structure would you use to store key-value pairs in a Python program? Write corresponding code in Python.\n",
      "\n",
      "### Instruction:\n",
      "What type of data structure would you use to store key-value pairs in a Python program? Write corresponding code in Python.\n",
      "\n",
      "### Response:\n",
      "\n",
      "I would like to know what type of data structure would you use to store key-value pairs in a Python program? Write corresponding code in Python.\n",
      "\n",
      "### Instruction:\n",
      "What type of data structure would you use to store key-value pairs in a Python program? Write corresponding code in Python.\n",
      "\n",
      "### Response:\n",
      "\n",
      "I would like to know what type of data structure would you use to store key-value pairs in a Python program? Write corresponding code in Python.\n",
      "\n",
      "### Instruction\n",
      "\n",
      "\n",
      "\n",
      "################################\n",
      "#### Instruction 2: \n",
      "### Instruction:\n",
      "Describe a method to solve an equation of the form ax + b = 0. Write corresponding code in Python.\n",
      "\n",
      "### Response:\n",
      "\n",
      "\n",
      "\n",
      "\n",
      "#### Expected Response 2: \n",
      "\n",
      "The equation ax + b = 0 can be solved by subtracting b from both sides and then dividing both sides by a. This will yield the solution x = -b/a.\n",
      "\n",
      "\n",
      "\n",
      "#### Generated Response From Original Model2: \n",
      "\n",
      "The code is in Python.\n",
      "\n",
      "### Instructions:\n",
      "\n",
      "The code is in Python.\n",
      "\n",
      "### Instructions:\n",
      "\n",
      "The code is in Python.\n",
      "\n",
      "### Instructions:\n",
      "\n",
      "The code is in Python.\n",
      "\n",
      "### Instructions:\n",
      "\n",
      "The code is in Python.\n",
      "\n",
      "### Instructions:\n",
      "\n",
      "The code is in Python.\n",
      "\n",
      "### Instructions:\n",
      "\n",
      "The code is in Python.\n",
      "\n",
      "### Instructions:\n",
      "\n",
      "The code is in Python.\n",
      "\n",
      "### Instructions:\n",
      "\n",
      "The code is in Python.\n",
      "\n",
      "### Instructions:\n",
      "\n",
      "The code is in Python.\n",
      "\n",
      "### Instructions:\n",
      "\n",
      "The code is in Python.\n",
      "\n",
      "### Instructions:\n",
      "\n",
      "The code is in Python.\n",
      "\n",
      "### Instructions:\n",
      "\n",
      "The code is in Python.\n",
      "\n",
      "### Instructions:\n",
      "\n",
      "The code is in Python.\n",
      "\n",
      "### Instructions:\n",
      "\n",
      "The code is in Python.\n",
      "\n",
      "### Instructions:\n",
      "\n",
      "The code is in Python.\n",
      "\n",
      "### Instructions:\n",
      "\n",
      "The code is in Python.\n",
      "\n",
      "### Instructions:\n",
      "\n",
      "The code is in Python.\n",
      "\n",
      "### Instructions:\n",
      "\n",
      "The code is in Python.\n",
      "\n",
      "### Instructions:\n",
      "\n",
      "The code is in Python.\n",
      "\n",
      "### Instructions:\n",
      "\n",
      "The code is in Python.\n",
      "\n",
      "### Instructions:\n",
      "\n",
      "The code is in Python.\n",
      "\n",
      "### Instructions:\n",
      "\n",
      "The code is in Python.\n",
      "\n",
      "### Instructions:\n",
      "\n",
      "The code is in Python.\n",
      "\n",
      "### Instructions:\n",
      "\n",
      "The code is in Python.\n",
      "\n",
      "### Instructions:\n",
      "\n",
      "The code is in Python.\n",
      "\n",
      "### Instructions:\n",
      "\n",
      "The code is in Python.\n",
      "\n",
      "### Instructions:\n",
      "\n",
      "The code is in Python.\n",
      "\n",
      "### Instructions:\n",
      "\n",
      "The code is in Python.\n",
      "\n",
      "### Instructions:\n",
      "\n",
      "The code is in Python.\n",
      "\n",
      "### Instructions:\n",
      "\n",
      "The code is in Python.\n",
      "\n",
      "### Instructions:\n",
      "\n",
      "The code is in Python.\n",
      "\n",
      "### Instructions:\n",
      "\n",
      "The code is in Python.\n",
      "\n",
      "### Instructions:\n",
      "\n",
      "The code is in Python.\n",
      "\n",
      "### Instructions:\n",
      "\n",
      "The code is in Python.\n",
      "\n",
      "### Instructions:\n",
      "\n",
      "The code is in Python.\n",
      "\n",
      "### Instructions:\n",
      "\n",
      "The code is in Python.\n",
      "\n",
      "### Instructions:\n",
      "\n",
      "The code is in Python.\n",
      "\n",
      "### Instructions:\n",
      "\n",
      "The code is in Python.\n",
      "\n",
      "### Instructions:\n",
      "\n",
      "The code is in Python.\n",
      "\n",
      "### Instructions:\n",
      "\n",
      "The code is in Python.\n",
      "\n",
      "### Instructions:\n",
      "\n",
      "The code is in Python.\n",
      "\n",
      "### Instructions:\n",
      "\n",
      "The code is in Python.\n",
      "\n",
      "### Instructions:\n",
      "\n",
      "The code is in Python.\n",
      "\n",
      "### Instructions:\n",
      "\n",
      "The code is in Python.\n",
      "\n",
      "### Instructions:\n",
      "\n",
      "The code is in Python.\n",
      "\n",
      "### Instructions:\n",
      "\n",
      "The code is in Python.\n",
      "\n",
      "### Instructions:\n",
      "\n",
      "The code is in Python.\n",
      "\n",
      "### Instructions:\n",
      "\n",
      "The code is in Python.\n",
      "\n",
      "### Instructions:\n",
      "\n",
      "The code is in Python.\n",
      "\n",
      "### Instructions:\n",
      "\n",
      "The code is in Python.\n",
      "\n",
      "### Instructions:\n",
      "\n",
      "The code is in Python.\n",
      "\n",
      "### Instructions:\n",
      "\n",
      "The code is in Python.\n",
      "\n",
      "### Instructions:\n",
      "\n",
      "The code is in Python.\n",
      "\n",
      "### Instructions:\n",
      "\n",
      "The code is in Python.\n",
      "\n",
      "### Instructions:\n",
      "\n",
      "The code is in Python.\n",
      "\n",
      "### Instructions:\n",
      "\n",
      "The code is in Python.\n",
      "\n",
      "### Instructions:\n",
      "\n",
      "The code is in Python.\n",
      "\n",
      "### Instructions:\n",
      "\n",
      "The code is in Python.\n",
      "\n",
      "### Instructions:\n",
      "\n",
      "The code is in Python.\n",
      "\n",
      "### Instructions:\n",
      "\n",
      "The code is in Python.\n",
      "\n",
      "### Instructions:\n",
      "\n",
      "The code is in Python.\n",
      "\n",
      "### Instructions:\n",
      "\n",
      "The code is in Python.\n",
      "\n",
      "### Instructions:\n",
      "\n",
      "The code is in Python.\n",
      "\n",
      "### Instructions:\n",
      "\n",
      "The code is in Python.\n",
      "\n",
      "### Instructions:\n",
      "\n",
      "The code is in Python.\n",
      "\n",
      "### Instructions:\n",
      "\n",
      "The code is in Python.\n",
      "\n",
      "### Instructions:\n",
      "\n",
      "The code is in Python.\n",
      "\n",
      "### Instructions:\n",
      "\n",
      "The code is in Python.\n",
      "\n",
      "### Instructions:\n",
      "\n",
      "The code is in Python.\n",
      "\n",
      "### Instructions:\n",
      "\n",
      "The code is in Python.\n",
      "\n",
      "### Instructions:\n",
      "\n",
      "The code is in Python.\n",
      "\n",
      "### Instructions:\n",
      "\n",
      "The code is in Python.\n",
      "\n",
      "### Instructions:\n",
      "\n",
      "The code is in Python.\n",
      "\n",
      "### Instructions:\n",
      "\n",
      "The code is in Python.\n",
      "\n",
      "### Instructions:\n",
      "\n",
      "The code is in Python.\n",
      "\n",
      "### Instructions:\n",
      "\n",
      "\n",
      "\n",
      "################################\n",
      "#### Instruction 3: \n",
      "### Instruction:\n",
      "Write a CSS rule to set the text size of all elements with the class “big-header” to 24px.\n",
      "\n",
      "### Response:\n",
      "\n",
      "\n",
      "\n",
      "\n",
      "#### Expected Response 3: \n",
      "\n",
      ".big-header {\n",
      "    font-size: 24px;\n",
      "}\n",
      "\n",
      "\n",
      "\n",
      "#### Generated Response From Original Model3: \n",
      "\n",
      "### Instruction:\n",
      "Write a CSS rule to set the text size of all elements with the class “big-header” to 24px.\n",
      "\n",
      "### Response:\n",
      "\n",
      "### Instruction:\n",
      "Write a CSS rule to set the text size of all elements with the class “big-header” to 24px.\n",
      "\n",
      "### Response:\n",
      "\n",
      "### Instruction:\n",
      "Write a CSS rule to set the text size of all elements with the class “big-header” to 24px.\n",
      "\n",
      "### Response:\n",
      "\n",
      "### Instruction:\n",
      "Write a CSS rule to set the text size of all elements with the class “big-header” to 24px.\n",
      "\n",
      "### Response:\n",
      "\n",
      "### Instruction:\n",
      "Write a CSS rule to set the text size of all elements with the class “big-header” to 24px.\n",
      "\n",
      "### Response:\n",
      "\n",
      "### Instruction:\n",
      "Write a CSS rule to set the text size of all elements with the class “big-header” to 24px.\n",
      "\n",
      "### Response:\n",
      "\n",
      "### Instruction:\n",
      "Write a CSS rule to set the text size of all elements with the class “big-header” to 24px.\n",
      "\n",
      "### Response:\n",
      "\n",
      "### Instruction:\n",
      "Write a CSS rule to set the text size of all elements with the class “big-header” to 24px.\n",
      "\n",
      "### Response:\n",
      "\n",
      "### Instruction:\n",
      "Write a CSS rule to set the text size of all elements with the class “big-header” to 24px.\n",
      "\n",
      "### Response:\n",
      "\n",
      "### Instruction:\n",
      "Write a CSS rule to set the text size of all elements with the class “big-header” to 24px.\n",
      "\n",
      "### Response:\n",
      "\n",
      "### Instruction:\n",
      "Write a CSS rule to set the text size of all elements with the class “big-header” to 24px.\n",
      "\n",
      "### Response:\n",
      "\n",
      "### Instruction:\n",
      "Write a CSS rule to set the text size of all elements with the class “big-header” to 24px.\n",
      "\n",
      "### Response:\n",
      "\n",
      "### Instruction:\n",
      "Write a CSS rule to set the text size of all elements with the class “big-header” to 24px.\n",
      "\n",
      "### Response:\n",
      "\n",
      "### Instruction:\n",
      "Write a CSS rule to set the text size of all elements with the class “big-header” to 24px.\n",
      "\n",
      "### Response:\n",
      "\n",
      "### Instruction:\n",
      "Write a CSS rule to set the text size of all elements with the class “big-header” to 24px.\n",
      "\n",
      "### Response:\n",
      "\n",
      "### Instruction:\n",
      "Write a CSS rule to set the text size of all elements with the class “big-header” to 24px.\n",
      "\n",
      "### Response:\n",
      "\n",
      "### Instruction:\n",
      "Write a CSS rule to set the text size of all elements with the class “big-header” to 24px.\n",
      "\n",
      "### Response:\n",
      "\n",
      "### Instruction:\n",
      "Write a CSS rule to set the text size of all elements with the class “big-header” to 24px.\n",
      "\n",
      "### Response:\n",
      "\n",
      "### Instruction:\n",
      "Write a CSS rule to set the text size of all elements with the class “big-header” to 24px.\n",
      "\n",
      "### Response:\n",
      "\n",
      "### Instruction:\n",
      "Write a CSS rule to set the text size of all elements with the class “big-header” to 24px.\n",
      "\n",
      "### Response:\n",
      "\n",
      "### Instruction:\n",
      "Write a CSS rule to set the text size of all elements with the class “big-header” to 24px.\n",
      "\n",
      "### Response:\n",
      "\n",
      "### Instruction:\n",
      "Write a CSS rule to set the text size of all elements with the class “big-header” to 24px.\n",
      "\n",
      "### Response:\n",
      "\n",
      "### Instruction:\n",
      "Write a CSS rule to set the text size of all elements with the class “big-header” to 24px.\n",
      "\n",
      "### Response:\n",
      "\n",
      "### Instruction:\n",
      "Write a CSS rule to set the text size of all elements with the class “big-header” to 24px.\n",
      "\n",
      "### Response:\n",
      "\n",
      "### Instruction:\n",
      "Write a CSS rule to set the text size of all elements with the class “big-header” to 24px.\n",
      "\n",
      "### Response:\n",
      "\n",
      "### Instruction:\n",
      "Write a CSS rule to set the text size of all elements with the class “big-header” to 24px.\n",
      "\n",
      "### Response:\n",
      "\n",
      "### Instruction:\n",
      "Write a CSS rule to set the text size of all elements with the class “big-header\n",
      "\n",
      "\n",
      "\n"
     ]
    }
   ],
   "source": [
    "# Visualize sample instructions, expected response from the dataset and response generated by the model\n",
    "for i in range(3):\n",
    "    print(\"#\"*32)\n",
    "    print(\"#### Instruction \" + str(i+1) + \": \")\n",
    "    print(instruction_test[i])\n",
    "    print(\"\\n\\n\")\n",
    "\n",
    "    print(\"#### Expected Response \" + str(i+1) + \": \")\n",
    "    print(expected_outputs[i])\n",
    "    print(\"\\n\\n\")\n",
    "\n",
    "    print(\"#### Generated Response From Original Model\" + str(i+1) + \": \")\n",
    "    print(generated_outputs_original[i])\n",
    "    print(\"\\n\\n\")"
   ]
  },
  {
   "cell_type": "markdown",
   "metadata": {},
   "source": [
    "Observations:\n",
    "Responses extend and repeat answers until they generate the max number of tokens. Appending the EOS token to the output and then instruction fine-tune the model can fix this issue and generate better response."
   ]
  },
  {
   "cell_type": "markdown",
   "metadata": {},
   "source": [
    "Metric for evaluation: BLEU score which checks the quality of translation made by translation models. It can range from 0 to 1 or 0 to 100 depending on the implementaiton, with higher score meaning the two texts are similar i.e. its a good match.\n",
    "A variation of the BLUE score is SacreBLEU that is independent of different parameters, unlike the original BLEU score"
   ]
  },
  {
   "cell_type": "code",
   "execution_count": 35,
   "metadata": {},
   "outputs": [
    {
     "name": "stdout",
     "output_type": "stream",
     "text": [
      "['score', 'counts', 'totals', 'precisions', 'bp', 'sys_len', 'ref_len']\n",
      "0.10767772298900607\n"
     ]
    }
   ],
   "source": [
    "sacrebleu = evaluate.load(\"sacrebleu\") # Need to install: pip install sacrebleu first\n",
    "results_original = sacrebleu.compute(predictions=generated_outputs_original, references=expected_outputs)\n",
    "\n",
    "print(list(results_original.keys()))\n",
    "print(results_original[\"score\"])"
   ]
  },
  {
   "cell_type": "markdown",
   "metadata": {},
   "source": [
    "The SacreBLEU score is 0.1 out 100, which means the output has almost no alignment with the expected response.\n",
    "We can see it individually in the previous block- basically the model just repeats the question itself and does not provide any answer at all."
   ]
  },
  {
   "cell_type": "code",
   "execution_count": 36,
   "metadata": {},
   "outputs": [],
   "source": [
    "# Apply parameter-efficient fine-tuning \n",
    "lora_config = LoraConfig(\n",
    "    r=32, # Dimension of the low-rank \n",
    "    lora_alpha=16, # Scaling factor of delta Weight \n",
    "    target_modules=[\"q_proj\", \"v_proj\", \"k_proj\", \"o_proj\"],\n",
    "    task_type=TaskType.CAUSAL_LM \n",
    ")\n",
    "model = get_peft_model(model, lora_config)"
   ]
  },
  {
   "cell_type": "markdown",
   "metadata": {},
   "source": [
    "Turing fine-tuning, we only want to calculate the loss function for the tokens after the reponse template, i.e. after \"#### Response:\\n\". We can mask the tokens before that using -100 manually. Or we can use the data collator class from trl."
   ]
  },
  {
   "cell_type": "code",
   "execution_count": 37,
   "metadata": {},
   "outputs": [],
   "source": [
    "response_template = \"### Response:\\n\"\n",
    "collator = DataCollatorForCompletionOnlyLM(response_template=response_template, tokenizer=tokenizer)"
   ]
  },
  {
   "cell_type": "code",
   "execution_count": 38,
   "metadata": {},
   "outputs": [],
   "source": [
    "training_args = SFTConfig(\n",
    "    output_dir=\"instruction_fine_tuning\",\n",
    "    num_train_epochs=8, #Increase epochs\n",
    "    save_strategy=\"epoch\",\n",
    "    fp16=True, \n",
    "    logging_steps=256,\n",
    "    per_device_train_batch_size=4,  \n",
    "    per_device_eval_batch_size=4,  \n",
    "    max_seq_length=1024,\n",
    "    do_eval=True,\n",
    "    warmup_ratio=0.1,  # learning rate warmup\n",
    "    lr_scheduler_type=\"cosine\",  # scheduler\n",
    "    learning_rate=1e-4,\n",
    "    report_to=\"none\"\n",
    ")\n",
    "\n",
    "trainer = SFTTrainer(\n",
    "    model, \n",
    "    train_dataset=train_dataset,\n",
    "    eval_dataset=test_dataset,\n",
    "    formatting_func=formatting_prompts,\n",
    "    args=training_args,\n",
    "    data_collator=collator\n",
    ")"
   ]
  },
  {
   "cell_type": "code",
   "execution_count": 39,
   "metadata": {},
   "outputs": [
    {
     "name": "stderr",
     "output_type": "stream",
     "text": [
      "  2%|▏         | 258/15624 [00:16<16:27, 15.56it/s]"
     ]
    },
    {
     "name": "stdout",
     "output_type": "stream",
     "text": [
      "{'loss': 2.0481, 'grad_norm': 0.8704966306686401, 'learning_rate': 1.63787587971849e-05, 'epoch': 0.13}\n"
     ]
    },
    {
     "name": "stderr",
     "output_type": "stream",
     "text": [
      "  3%|▎         | 514/15624 [00:33<16:02, 15.69it/s]"
     ]
    },
    {
     "name": "stdout",
     "output_type": "stream",
     "text": [
      "{'loss': 1.8114, 'grad_norm': 1.1184014081954956, 'learning_rate': 3.27575175943698e-05, 'epoch': 0.26}\n"
     ]
    },
    {
     "name": "stderr",
     "output_type": "stream",
     "text": [
      "  5%|▍         | 770/15624 [00:49<15:39, 15.81it/s]"
     ]
    },
    {
     "name": "stdout",
     "output_type": "stream",
     "text": [
      "{'loss': 1.781, 'grad_norm': 1.4399017095565796, 'learning_rate': 4.91362763915547e-05, 'epoch': 0.39}\n"
     ]
    },
    {
     "name": "stderr",
     "output_type": "stream",
     "text": [
      "  7%|▋         | 1026/15624 [01:07<17:43, 13.73it/s]"
     ]
    },
    {
     "name": "stdout",
     "output_type": "stream",
     "text": [
      "{'loss': 1.757, 'grad_norm': 0.7817403674125671, 'learning_rate': 6.55150351887396e-05, 'epoch': 0.52}\n"
     ]
    },
    {
     "name": "stderr",
     "output_type": "stream",
     "text": [
      "  8%|▊         | 1282/15624 [01:24<15:36, 15.32it/s]"
     ]
    },
    {
     "name": "stdout",
     "output_type": "stream",
     "text": [
      "{'loss': 1.7014, 'grad_norm': 1.6501805782318115, 'learning_rate': 8.18937939859245e-05, 'epoch': 0.66}\n"
     ]
    },
    {
     "name": "stderr",
     "output_type": "stream",
     "text": [
      " 10%|▉         | 1538/15624 [01:42<15:22, 15.26it/s]"
     ]
    },
    {
     "name": "stdout",
     "output_type": "stream",
     "text": [
      "{'loss': 1.6993, 'grad_norm': 1.3227951526641846, 'learning_rate': 9.82725527831094e-05, 'epoch': 0.79}\n"
     ]
    },
    {
     "name": "stderr",
     "output_type": "stream",
     "text": [
      " 11%|█▏        | 1794/15624 [01:58<14:07, 16.32it/s]"
     ]
    },
    {
     "name": "stdout",
     "output_type": "stream",
     "text": [
      "{'loss': 1.6529, 'grad_norm': 1.4680498838424683, 'learning_rate': 9.993456899990032e-05, 'epoch': 0.92}\n"
     ]
    },
    {
     "name": "stderr",
     "output_type": "stream",
     "text": [
      " 13%|█▎        | 2050/15624 [02:15<14:51, 15.22it/s]"
     ]
    },
    {
     "name": "stdout",
     "output_type": "stream",
     "text": [
      "{'loss': 1.5621, 'grad_norm': 1.3528789281845093, 'learning_rate': 9.970673123689198e-05, 'epoch': 1.05}\n"
     ]
    },
    {
     "name": "stderr",
     "output_type": "stream",
     "text": [
      " 15%|█▍        | 2306/15624 [02:31<14:38, 15.16it/s]"
     ]
    },
    {
     "name": "stdout",
     "output_type": "stream",
     "text": [
      "{'loss': 1.6008, 'grad_norm': 2.699514150619507, 'learning_rate': 9.93181619422711e-05, 'epoch': 1.18}\n"
     ]
    },
    {
     "name": "stderr",
     "output_type": "stream",
     "text": [
      " 16%|█▋        | 2562/15624 [02:47<13:11, 16.49it/s]"
     ]
    },
    {
     "name": "stdout",
     "output_type": "stream",
     "text": [
      "{'loss': 1.6272, 'grad_norm': 2.1519999504089355, 'learning_rate': 9.876708520677302e-05, 'epoch': 1.31}\n"
     ]
    },
    {
     "name": "stderr",
     "output_type": "stream",
     "text": [
      " 18%|█▊        | 2818/15624 [03:04<13:55, 15.33it/s]"
     ]
    },
    {
     "name": "stdout",
     "output_type": "stream",
     "text": [
      "{'loss': 1.5054, 'grad_norm': 2.2814817428588867, 'learning_rate': 9.805651031932446e-05, 'epoch': 1.44}\n"
     ]
    },
    {
     "name": "stderr",
     "output_type": "stream",
     "text": [
      " 20%|█▉        | 3074/15624 [03:20<12:52, 16.25it/s]"
     ]
    },
    {
     "name": "stdout",
     "output_type": "stream",
     "text": [
      "{'loss': 1.5339, 'grad_norm': 1.2589868307113647, 'learning_rate': 9.719245321152941e-05, 'epoch': 1.57}\n"
     ]
    },
    {
     "name": "stderr",
     "output_type": "stream",
     "text": [
      " 21%|██▏       | 3330/15624 [03:37<13:28, 15.21it/s]"
     ]
    },
    {
     "name": "stdout",
     "output_type": "stream",
     "text": [
      "{'loss': 1.5263, 'grad_norm': 1.7085620164871216, 'learning_rate': 9.617096481421497e-05, 'epoch': 1.7}\n"
     ]
    },
    {
     "name": "stderr",
     "output_type": "stream",
     "text": [
      " 23%|██▎       | 3586/15624 [03:53<12:31, 16.02it/s]"
     ]
    },
    {
     "name": "stdout",
     "output_type": "stream",
     "text": [
      "{'loss': 1.4871, 'grad_norm': 3.086754322052002, 'learning_rate': 9.499846916415181e-05, 'epoch': 1.84}\n"
     ]
    },
    {
     "name": "stderr",
     "output_type": "stream",
     "text": [
      " 25%|██▍       | 3842/15624 [04:10<13:01, 15.08it/s]"
     ]
    },
    {
     "name": "stdout",
     "output_type": "stream",
     "text": [
      "{'loss': 1.4813, 'grad_norm': 0.9772626757621765, 'learning_rate': 9.367880103818916e-05, 'epoch': 1.97}\n"
     ]
    },
    {
     "name": "stderr",
     "output_type": "stream",
     "text": [
      " 26%|██▌       | 4098/15624 [04:27<11:52, 16.19it/s]"
     ]
    },
    {
     "name": "stdout",
     "output_type": "stream",
     "text": [
      "{'loss': 1.512, 'grad_norm': 1.1317273378372192, 'learning_rate': 9.221627655705445e-05, 'epoch': 2.1}\n"
     ]
    },
    {
     "name": "stderr",
     "output_type": "stream",
     "text": [
      " 28%|██▊       | 4354/15624 [04:43<12:19, 15.24it/s]"
     ]
    },
    {
     "name": "stdout",
     "output_type": "stream",
     "text": [
      "{'loss': 1.4843, 'grad_norm': 1.0866565704345703, 'learning_rate': 9.061567906900267e-05, 'epoch': 2.23}\n"
     ]
    },
    {
     "name": "stderr",
     "output_type": "stream",
     "text": [
      " 30%|██▉       | 4610/15624 [04:59<11:46, 15.59it/s]"
     ]
    },
    {
     "name": "stdout",
     "output_type": "stream",
     "text": [
      "{'loss': 1.4442, 'grad_norm': 1.0224113464355469, 'learning_rate': 8.888224350534617e-05, 'epoch': 2.36}\n"
     ]
    },
    {
     "name": "stderr",
     "output_type": "stream",
     "text": [
      " 31%|███       | 4866/15624 [05:16<11:23, 15.73it/s]"
     ]
    },
    {
     "name": "stdout",
     "output_type": "stream",
     "text": [
      "{'loss': 1.4344, 'grad_norm': 0.6979287266731262, 'learning_rate': 8.702163925903218e-05, 'epoch': 2.49}\n"
     ]
    },
    {
     "name": "stderr",
     "output_type": "stream",
     "text": [
      " 33%|███▎      | 5122/15624 [05:32<10:57, 15.97it/s]"
     ]
    },
    {
     "name": "stdout",
     "output_type": "stream",
     "text": [
      "{'loss': 1.459, 'grad_norm': 1.052979826927185, 'learning_rate': 8.504791991145048e-05, 'epoch': 2.62}\n"
     ]
    },
    {
     "name": "stderr",
     "output_type": "stream",
     "text": [
      " 34%|███▍      | 5378/15624 [05:49<10:48, 15.81it/s]"
     ]
    },
    {
     "name": "stdout",
     "output_type": "stream",
     "text": [
      "{'loss': 1.4208, 'grad_norm': 1.1904914379119873, 'learning_rate': 8.295206481551518e-05, 'epoch': 2.75}\n"
     ]
    },
    {
     "name": "stderr",
     "output_type": "stream",
     "text": [
      " 36%|███▌      | 5634/15624 [06:05<11:05, 15.02it/s]"
     ]
    },
    {
     "name": "stdout",
     "output_type": "stream",
     "text": [
      "{'loss': 1.386, 'grad_norm': 1.092282772064209, 'learning_rate': 8.074843634295213e-05, 'epoch': 2.88}\n"
     ]
    },
    {
     "name": "stderr",
     "output_type": "stream",
     "text": [
      " 38%|███▊      | 5890/15624 [06:22<11:08, 14.56it/s]"
     ]
    },
    {
     "name": "stdout",
     "output_type": "stream",
     "text": [
      "{'loss': 1.3862, 'grad_norm': 1.7411143779754639, 'learning_rate': 7.845342846290498e-05, 'epoch': 3.01}\n"
     ]
    },
    {
     "name": "stderr",
     "output_type": "stream",
     "text": [
      " 39%|███▉      | 6146/15624 [06:38<09:51, 16.03it/s]"
     ]
    },
    {
     "name": "stdout",
     "output_type": "stream",
     "text": [
      "{'loss': 1.3994, 'grad_norm': 1.2530680894851685, 'learning_rate': 7.605655211766107e-05, 'epoch': 3.15}\n"
     ]
    },
    {
     "name": "stderr",
     "output_type": "stream",
     "text": [
      " 41%|████      | 6402/15624 [06:55<09:19, 16.47it/s]"
     ]
    },
    {
     "name": "stdout",
     "output_type": "stream",
     "text": [
      "{'loss': 1.4131, 'grad_norm': 1.3404021263122559, 'learning_rate': 7.357445493357995e-05, 'epoch': 3.28}\n"
     ]
    },
    {
     "name": "stderr",
     "output_type": "stream",
     "text": [
      " 43%|████▎     | 6658/15624 [07:11<10:13, 14.61it/s]"
     ]
    },
    {
     "name": "stdout",
     "output_type": "stream",
     "text": [
      "{'loss': 1.3743, 'grad_norm': 1.1940377950668335, 'learning_rate': 7.101525488433468e-05, 'epoch': 3.41}\n"
     ]
    },
    {
     "name": "stderr",
     "output_type": "stream",
     "text": [
      " 44%|████▍     | 6914/15624 [07:28<09:21, 15.50it/s]"
     ]
    },
    {
     "name": "stdout",
     "output_type": "stream",
     "text": [
      "{'loss': 1.3371, 'grad_norm': 1.0967727899551392, 'learning_rate': 6.838732211705617e-05, 'epoch': 3.54}\n"
     ]
    },
    {
     "name": "stderr",
     "output_type": "stream",
     "text": [
      " 46%|████▌     | 7170/15624 [07:44<08:44, 16.12it/s]"
     ]
    },
    {
     "name": "stdout",
     "output_type": "stream",
     "text": [
      "{'loss': 1.3835, 'grad_norm': 1.5068553686141968, 'learning_rate': 6.569925157684017e-05, 'epoch': 3.67}\n"
     ]
    },
    {
     "name": "stderr",
     "output_type": "stream",
     "text": [
      " 48%|████▊     | 7426/15624 [08:00<08:34, 15.94it/s]"
     ]
    },
    {
     "name": "stdout",
     "output_type": "stream",
     "text": [
      "{'loss': 1.3734, 'grad_norm': 1.4280712604522705, 'learning_rate': 6.295983489602759e-05, 'epoch': 3.8}\n"
     ]
    },
    {
     "name": "stderr",
     "output_type": "stream",
     "text": [
      " 49%|████▉     | 7682/15624 [08:16<08:09, 16.24it/s]"
     ]
    },
    {
     "name": "stdout",
     "output_type": "stream",
     "text": [
      "{'loss': 1.3484, 'grad_norm': 1.4624055624008179, 'learning_rate': 6.018896878404677e-05, 'epoch': 3.93}\n"
     ]
    },
    {
     "name": "stderr",
     "output_type": "stream",
     "text": [
      " 51%|█████     | 7938/15624 [08:33<08:31, 15.03it/s]"
     ]
    },
    {
     "name": "stdout",
     "output_type": "stream",
     "text": [
      "{'loss': 1.3882, 'grad_norm': 2.2642078399658203, 'learning_rate': 5.7373989330322385e-05, 'epoch': 4.06}\n"
     ]
    },
    {
     "name": "stderr",
     "output_type": "stream",
     "text": [
      " 52%|█████▏    | 8194/15624 [08:49<07:48, 15.88it/s]"
     ]
    },
    {
     "name": "stdout",
     "output_type": "stream",
     "text": [
      "{'loss': 1.33, 'grad_norm': 1.2014834880828857, 'learning_rate': 5.4534892428001225e-05, 'epoch': 4.19}\n"
     ]
    },
    {
     "name": "stderr",
     "output_type": "stream",
     "text": [
      " 54%|█████▍    | 8450/15624 [09:06<07:35, 15.76it/s]"
     ]
    },
    {
     "name": "stdout",
     "output_type": "stream",
     "text": [
      "{'loss': 1.3338, 'grad_norm': 1.2200286388397217, 'learning_rate': 5.168096365786402e-05, 'epoch': 4.33}\n"
     ]
    },
    {
     "name": "stderr",
     "output_type": "stream",
     "text": [
      " 56%|█████▌    | 8706/15624 [09:23<07:15, 15.88it/s]"
     ]
    },
    {
     "name": "stdout",
     "output_type": "stream",
     "text": [
      "{'loss': 1.247, 'grad_norm': 0.9436575770378113, 'learning_rate': 4.882153710995749e-05, 'epoch': 4.46}\n"
     ]
    },
    {
     "name": "stderr",
     "output_type": "stream",
     "text": [
      " 57%|█████▋    | 8962/15624 [09:39<07:11, 15.44it/s]"
     ]
    },
    {
     "name": "stdout",
     "output_type": "stream",
     "text": [
      "{'loss': 1.355, 'grad_norm': 0.8784071207046509, 'learning_rate': 4.5965964855419246e-05, 'epoch': 4.59}\n"
     ]
    },
    {
     "name": "stderr",
     "output_type": "stream",
     "text": [
      " 59%|█████▉    | 9218/15624 [09:56<06:38, 16.06it/s]"
     ]
    },
    {
     "name": "stdout",
     "output_type": "stream",
     "text": [
      "{'loss': 1.3678, 'grad_norm': 1.5555012226104736, 'learning_rate': 4.3123586359493736e-05, 'epoch': 4.72}\n"
     ]
    },
    {
     "name": "stderr",
     "output_type": "stream",
     "text": [
      " 61%|██████    | 9474/15624 [10:12<06:22, 16.10it/s]"
     ]
    },
    {
     "name": "stdout",
     "output_type": "stream",
     "text": [
      "{'loss': 1.3762, 'grad_norm': 1.6519443988800049, 'learning_rate': 4.03036979357769e-05, 'epoch': 4.85}\n"
     ]
    },
    {
     "name": "stderr",
     "output_type": "stream",
     "text": [
      " 62%|██████▏   | 9730/15624 [10:28<06:10, 15.89it/s]"
     ]
    },
    {
     "name": "stdout",
     "output_type": "stream",
     "text": [
      "{'loss': 1.3008, 'grad_norm': 1.7893000841140747, 'learning_rate': 3.7515522341593355e-05, 'epoch': 4.98}\n"
     ]
    },
    {
     "name": "stderr",
     "output_type": "stream",
     "text": [
      " 64%|██████▍   | 9986/15624 [10:46<05:39, 16.60it/s]"
     ]
    },
    {
     "name": "stdout",
     "output_type": "stream",
     "text": [
      "{'loss': 1.3206, 'grad_norm': 1.8659096956253052, 'learning_rate': 3.476817861394723e-05, 'epoch': 5.11}\n"
     ]
    },
    {
     "name": "stderr",
     "output_type": "stream",
     "text": [
      " 66%|██████▌   | 10242/15624 [11:02<05:54, 15.20it/s]"
     ]
    },
    {
     "name": "stdout",
     "output_type": "stream",
     "text": [
      "{'loss': 1.2811, 'grad_norm': 1.6170631647109985, 'learning_rate': 3.207065224470207e-05, 'epoch': 5.24}\n"
     ]
    },
    {
     "name": "stderr",
     "output_type": "stream",
     "text": [
      " 67%|██████▋   | 10498/15624 [11:18<05:46, 14.80it/s]"
     ]
    },
    {
     "name": "stdout",
     "output_type": "stream",
     "text": [
      "{'loss': 1.2906, 'grad_norm': 1.4811190366744995, 'learning_rate': 2.9431765792534626e-05, 'epoch': 5.37}\n"
     ]
    },
    {
     "name": "stderr",
     "output_type": "stream",
     "text": [
      " 69%|██████▉   | 10754/15624 [11:35<05:07, 15.83it/s]"
     ]
    },
    {
     "name": "stdout",
     "output_type": "stream",
     "text": [
      "{'loss': 1.3321, 'grad_norm': 0.9831153750419617, 'learning_rate': 2.686015002777994e-05, 'epoch': 5.51}\n"
     ]
    },
    {
     "name": "stderr",
     "output_type": "stream",
     "text": [
      " 70%|███████   | 11010/15624 [11:51<04:46, 16.12it/s]"
     ]
    },
    {
     "name": "stdout",
     "output_type": "stream",
     "text": [
      "{'loss': 1.2808, 'grad_norm': 1.2531665563583374, 'learning_rate': 2.4373807557404437e-05, 'epoch': 5.64}\n"
     ]
    },
    {
     "name": "stderr",
     "output_type": "stream",
     "text": [
      " 72%|███████▏  | 11266/15624 [12:07<04:37, 15.72it/s]"
     ]
    },
    {
     "name": "stdout",
     "output_type": "stream",
     "text": [
      "{'loss': 1.2797, 'grad_norm': 1.2835369110107422, 'learning_rate': 2.196137485194409e-05, 'epoch': 5.77}\n"
     ]
    },
    {
     "name": "stderr",
     "output_type": "stream",
     "text": [
      " 74%|███████▎  | 11522/15624 [12:23<04:11, 16.34it/s]"
     ]
    },
    {
     "name": "stdout",
     "output_type": "stream",
     "text": [
      "{'loss': 1.2892, 'grad_norm': 1.6605138778686523, 'learning_rate': 1.9640645574633805e-05, 'epoch': 5.9}\n"
     ]
    },
    {
     "name": "stderr",
     "output_type": "stream",
     "text": [
      " 75%|███████▌  | 11778/15624 [12:41<04:10, 15.34it/s]"
     ]
    },
    {
     "name": "stdout",
     "output_type": "stream",
     "text": [
      "{'loss': 1.2823, 'grad_norm': 2.1407525539398193, 'learning_rate': 1.7419209927539965e-05, 'epoch': 6.03}\n"
     ]
    },
    {
     "name": "stderr",
     "output_type": "stream",
     "text": [
      " 77%|███████▋  | 12034/15624 [12:57<03:55, 15.24it/s]"
     ]
    },
    {
     "name": "stdout",
     "output_type": "stream",
     "text": [
      "{'loss': 1.2715, 'grad_norm': 2.5002427101135254, 'learning_rate': 1.5304333361916984e-05, 'epoch': 6.16}\n"
     ]
    },
    {
     "name": "stderr",
     "output_type": "stream",
     "text": [
      " 79%|███████▊  | 12290/15624 [13:13<03:45, 14.79it/s]"
     ]
    },
    {
     "name": "stdout",
     "output_type": "stream",
     "text": [
      "{'loss': 1.2702, 'grad_norm': 0.7449082732200623, 'learning_rate': 1.3302932815744423e-05, 'epoch': 6.29}\n"
     ]
    },
    {
     "name": "stderr",
     "output_type": "stream",
     "text": [
      " 80%|████████  | 12546/15624 [13:29<03:11, 16.08it/s]"
     ]
    },
    {
     "name": "stdout",
     "output_type": "stream",
     "text": [
      "{'loss': 1.2539, 'grad_norm': 2.2496755123138428, 'learning_rate': 1.1421554091115493e-05, 'epoch': 6.42}\n"
     ]
    },
    {
     "name": "stderr",
     "output_type": "stream",
     "text": [
      " 82%|████████▏ | 12802/15624 [13:46<02:54, 16.17it/s]"
     ]
    },
    {
     "name": "stdout",
     "output_type": "stream",
     "text": [
      "{'loss': 1.2561, 'grad_norm': 1.8914860486984253, 'learning_rate': 9.66635044546656e-06, 'epoch': 6.55}\n"
     ]
    },
    {
     "name": "stderr",
     "output_type": "stream",
     "text": [
      " 84%|████████▎ | 13058/15624 [14:02<02:43, 15.71it/s]"
     ]
    },
    {
     "name": "stdout",
     "output_type": "stream",
     "text": [
      "{'loss': 1.3064, 'grad_norm': 1.282939076423645, 'learning_rate': 8.043062466667295e-06, 'epoch': 6.69}\n"
     ]
    },
    {
     "name": "stderr",
     "output_type": "stream",
     "text": [
      " 85%|████████▌ | 13315/15624 [14:19<02:29, 15.48it/s]"
     ]
    },
    {
     "name": "stdout",
     "output_type": "stream",
     "text": [
      "{'loss': 1.2514, 'grad_norm': 1.9149730205535889, 'learning_rate': 6.556999297792482e-06, 'epoch': 6.82}\n"
     ]
    },
    {
     "name": "stderr",
     "output_type": "stream",
     "text": [
      " 87%|████████▋ | 13569/15624 [14:35<02:06, 16.27it/s]"
     ]
    },
    {
     "name": "stdout",
     "output_type": "stream",
     "text": [
      "{'loss': 1.2824, 'grad_norm': 1.3356081247329712, 'learning_rate': 5.213021272981649e-06, 'epoch': 6.95}\n"
     ]
    },
    {
     "name": "stderr",
     "output_type": "stream",
     "text": [
      " 88%|████████▊ | 13825/15624 [14:51<01:53, 15.90it/s]"
     ]
    },
    {
     "name": "stdout",
     "output_type": "stream",
     "text": [
      "{'loss': 1.2861, 'grad_norm': 1.050743579864502, 'learning_rate': 4.019911539047561e-06, 'epoch': 7.08}\n"
     ]
    },
    {
     "name": "stderr",
     "output_type": "stream",
     "text": [
      " 90%|█████████ | 14083/15624 [15:08<01:37, 15.88it/s]"
     ]
    },
    {
     "name": "stdout",
     "output_type": "stream",
     "text": [
      "{'loss': 1.2383, 'grad_norm': 1.6579736471176147, 'learning_rate': 2.972217131333549e-06, 'epoch': 7.21}\n"
     ]
    },
    {
     "name": "stderr",
     "output_type": "stream",
     "text": [
      " 92%|█████████▏| 14339/15624 [15:24<01:19, 16.15it/s]"
     ]
    },
    {
     "name": "stdout",
     "output_type": "stream",
     "text": [
      "{'loss': 1.2732, 'grad_norm': 2.138424873352051, 'learning_rate': 2.0783322946873297e-06, 'epoch': 7.34}\n"
     ]
    },
    {
     "name": "stderr",
     "output_type": "stream",
     "text": [
      " 93%|█████████▎| 14593/15624 [15:41<01:09, 14.93it/s]"
     ]
    },
    {
     "name": "stdout",
     "output_type": "stream",
     "text": [
      "{'loss': 1.2795, 'grad_norm': 1.6998246908187866, 'learning_rate': 1.3411805784434074e-06, 'epoch': 7.47}\n"
     ]
    },
    {
     "name": "stderr",
     "output_type": "stream",
     "text": [
      " 95%|█████████▌| 14851/15624 [15:57<00:49, 15.47it/s]"
     ]
    },
    {
     "name": "stdout",
     "output_type": "stream",
     "text": [
      "{'loss': 1.26, 'grad_norm': 1.6604410409927368, 'learning_rate': 7.631729189115811e-07, 'epoch': 7.6}\n"
     ]
    },
    {
     "name": "stderr",
     "output_type": "stream",
     "text": [
      " 97%|█████████▋| 15105/15624 [16:14<00:33, 15.55it/s]"
     ]
    },
    {
     "name": "stdout",
     "output_type": "stream",
     "text": [
      "{'loss': 1.2754, 'grad_norm': 1.468070387840271, 'learning_rate': 3.461997541427897e-07, 'epoch': 7.73}\n"
     ]
    },
    {
     "name": "stderr",
     "output_type": "stream",
     "text": [
      " 98%|█████████▊| 15363/15624 [16:30<00:16, 15.47it/s]"
     ]
    },
    {
     "name": "stdout",
     "output_type": "stream",
     "text": [
      "{'loss': 1.2288, 'grad_norm': 1.89386785030365, 'learning_rate': 9.162484104217051e-08, 'epoch': 7.86}\n"
     ]
    },
    {
     "name": "stderr",
     "output_type": "stream",
     "text": [
      "100%|█████████▉| 15619/15624 [16:46<00:00, 16.18it/s]"
     ]
    },
    {
     "name": "stdout",
     "output_type": "stream",
     "text": [
      "{'loss': 1.2715, 'grad_norm': 1.8502156734466553, 'learning_rate': 2.807950510608226e-10, 'epoch': 8.0}\n"
     ]
    },
    {
     "name": "stderr",
     "output_type": "stream",
     "text": [
      "100%|██████████| 15624/15624 [16:47<00:00, 15.50it/s]"
     ]
    },
    {
     "name": "stdout",
     "output_type": "stream",
     "text": [
      "{'train_runtime': 1007.8981, 'train_samples_per_second': 61.998, 'train_steps_per_second': 15.502, 'train_loss': 1.409563945551988, 'epoch': 8.0}\n"
     ]
    },
    {
     "name": "stderr",
     "output_type": "stream",
     "text": [
      "\n"
     ]
    },
    {
     "data": {
      "text/plain": [
       "TrainOutput(global_step=15624, training_loss=1.409563945551988, metrics={'train_runtime': 1007.8981, 'train_samples_per_second': 61.998, 'train_steps_per_second': 15.502, 'total_flos': 2.507113729395917e+16, 'train_loss': 1.409563945551988, 'epoch': 8.0})"
      ]
     },
     "execution_count": 39,
     "metadata": {},
     "output_type": "execute_result"
    }
   ],
   "source": [
    "trainer.train()"
   ]
  },
  {
   "cell_type": "code",
   "execution_count": 40,
   "metadata": {},
   "outputs": [
    {
     "name": "stdout",
     "output_type": "stream",
     "text": [
      "[2.0481, 1.8114, 1.781, 1.757, 1.7014, 1.6993, 1.6529, 1.5621, 1.6008, 1.6272, 1.5054, 1.5339, 1.5263, 1.4871, 1.4813, 1.512, 1.4843, 1.4442, 1.4344, 1.459, 1.4208, 1.386, 1.3862, 1.3994, 1.4131, 1.3743, 1.3371, 1.3835, 1.3734, 1.3484, 1.3882, 1.33, 1.3338, 1.247, 1.355, 1.3678, 1.3762, 1.3008, 1.3206, 1.2811, 1.2906, 1.3321, 1.2808, 1.2797, 1.2892, 1.2823, 1.2715, 1.2702, 1.2539, 1.2561, 1.3064, 1.2514, 1.2824, 1.2861, 1.2383, 1.2732, 1.2795, 1.26, 1.2754, 1.2288, 1.2715]\n"
     ]
    },
    {
     "data": {
      "image/png": "[encoded data removed]",
      "text/plain": [
       "<Figure size 1000x500 with 1 Axes>"
      ]
     },
     "metadata": {},
     "output_type": "display_data"
    }
   ],
   "source": [
    "log_history_lora = trainer.state.log_history\n",
    "\n",
    "train_loss = [log[\"loss\"] for log in log_history_lora if \"loss\" in log]\n",
    "print(train_loss)\n",
    "# Plot the training loss\n",
    "plt.figure(figsize=(10, 5))\n",
    "plt.plot(train_loss, label='Training Loss')\n",
    "\n",
    "plt.xlabel('Steps')\n",
    "plt.ylabel('Loss')\n",
    "plt.title('Training Loss')\n",
    "plt.legend()\n",
    "plt.show()"
   ]
  },
  {
   "cell_type": "code",
   "execution_count": 41,
   "metadata": {},
   "outputs": [],
   "source": [
    "trainer.save_model(\"./instruction_fine_tuning\")"
   ]
  },
  {
   "cell_type": "markdown",
   "metadata": {},
   "source": [
    "Testing the newly trained model. Since the model is changed, we need to change the generation pipeline"
   ]
  },
  {
   "cell_type": "code",
   "execution_count": 42,
   "metadata": {},
   "outputs": [
    {
     "name": "stderr",
     "output_type": "stream",
     "text": [
      "Device set to use cuda\n",
      "The model 'PeftModelForCausalLM' is not supported for text-generation. Supported models are ['AriaTextForCausalLM', 'BambaForCausalLM', 'BartForCausalLM', 'BertLMHeadModel', 'BertGenerationDecoder', 'BigBirdForCausalLM', 'BigBirdPegasusForCausalLM', 'BioGptForCausalLM', 'BlenderbotForCausalLM', 'BlenderbotSmallForCausalLM', 'BloomForCausalLM', 'CamembertForCausalLM', 'LlamaForCausalLM', 'CodeGenForCausalLM', 'CohereForCausalLM', 'Cohere2ForCausalLM', 'CpmAntForCausalLM', 'CTRLLMHeadModel', 'Data2VecTextForCausalLM', 'DbrxForCausalLM', 'ElectraForCausalLM', 'ErnieForCausalLM', 'FalconForCausalLM', 'FalconMambaForCausalLM', 'FuyuForCausalLM', 'GemmaForCausalLM', 'Gemma2ForCausalLM', 'GitForCausalLM', 'GlmForCausalLM', 'GPT2LMHeadModel', 'GPT2LMHeadModel', 'GPTBigCodeForCausalLM', 'GPTNeoForCausalLM', 'GPTNeoXForCausalLM', 'GPTNeoXJapaneseForCausalLM', 'GPTJForCausalLM', 'GraniteForCausalLM', 'GraniteMoeForCausalLM', 'JambaForCausalLM', 'JetMoeForCausalLM', 'LlamaForCausalLM', 'MambaForCausalLM', 'Mamba2ForCausalLM', 'MarianForCausalLM', 'MBartForCausalLM', 'MegaForCausalLM', 'MegatronBertForCausalLM', 'MistralForCausalLM', 'MixtralForCausalLM', 'MllamaForCausalLM', 'MoshiForCausalLM', 'MptForCausalLM', 'MusicgenForCausalLM', 'MusicgenMelodyForCausalLM', 'MvpForCausalLM', 'NemotronForCausalLM', 'OlmoForCausalLM', 'Olmo2ForCausalLM', 'OlmoeForCausalLM', 'OpenLlamaForCausalLM', 'OpenAIGPTLMHeadModel', 'OPTForCausalLM', 'PegasusForCausalLM', 'PersimmonForCausalLM', 'PhiForCausalLM', 'Phi3ForCausalLM', 'PhimoeForCausalLM', 'PLBartForCausalLM', 'ProphetNetForCausalLM', 'QDQBertLMHeadModel', 'Qwen2ForCausalLM', 'Qwen2MoeForCausalLM', 'RecurrentGemmaForCausalLM', 'ReformerModelWithLMHead', 'RemBertForCausalLM', 'RobertaForCausalLM', 'RobertaPreLayerNormForCausalLM', 'RoCBertForCausalLM', 'RoFormerForCausalLM', 'RwkvForCausalLM', 'Speech2Text2ForCausalLM', 'StableLmForCausalLM', 'Starcoder2ForCausalLM', 'TransfoXLLMHeadModel', 'TrOCRForCausalLM', 'WhisperForCausalLM', 'XGLMForCausalLM', 'XLMWithLMHeadModel', 'XLMProphetNetForCausalLM', 'XLMRobertaForCausalLM', 'XLMRobertaXLForCausalLM', 'XLNetLMHeadModel', 'XmodForCausalLM', 'ZambaForCausalLM'].\n"
     ]
    }
   ],
   "source": [
    "generation_pipeline = pipeline(task=\"text-generation\", model=model, tokenizer=tokenizer,\n",
    "                               device=device, batch_size=8, max_length=1024, truncation=True,\n",
    "                               padding=False, return_full_text=False)"
   ]
  },
  {
   "cell_type": "code",
   "execution_count": 43,
   "metadata": {},
   "outputs": [],
   "source": [
    "with torch.no_grad():\n",
    "    pipeline_iterator = generation_pipeline(instruction_test_torch[:48], #First 48 samples\n",
    "                                            max_length=1024, early_stopping=True)\n",
    "\n",
    "generated_outputs_finetuned = []\n",
    "for text in pipeline_iterator:\n",
    "    generated_outputs_finetuned.append(text[0][\"generated_text\"])"
   ]
  },
  {
   "cell_type": "code",
   "execution_count": 46,
   "metadata": {},
   "outputs": [
    {
     "name": "stdout",
     "output_type": "stream",
     "text": [
      "################################\n",
      "#### Instruction 1: \n",
      "### Instruction:\n",
      "What type of data structure would you use to store key-value pairs in a Python program? Write corresponding code in Python.\n",
      "\n",
      "### Response:\n",
      "\n",
      "\n",
      "\n",
      "\n",
      "#### Expected Response 1: \n",
      "\n",
      "The data structure to use for key-value pairs in Python is a dictionary. A dictionary is a data type that consists of key-value pairs, and is denoted by {} in Python. Each key has a unique value associated with it that can be accessed using the key. For example, a dictionary called \"person\" could look like this: \n",
      "\n",
      "person = {'name':'John', 'age': 32} \n",
      "\n",
      "The value of the key \"name\" can be accessed using person['name'] which returns \"John\".\n",
      "\n",
      "\n",
      "\n",
      "#### Generated Response From Fine-tuned Model1: \n",
      "A data structure would be a type of data structure that stores key-value pairs in a Python program. This data structure can be used to store key-value pairs in a Python program by using a key-value pair type.\n",
      "\n",
      "\n",
      "\n",
      "################################\n",
      "#### Instruction 2: \n",
      "### Instruction:\n",
      "Describe a method to solve an equation of the form ax + b = 0. Write corresponding code in Python.\n",
      "\n",
      "### Response:\n",
      "\n",
      "\n",
      "\n",
      "\n",
      "#### Expected Response 2: \n",
      "\n",
      "The equation ax + b = 0 can be solved by subtracting b from both sides and then dividing both sides by a. This will yield the solution x = -b/a.\n",
      "\n",
      "\n",
      "\n",
      "#### Generated Response From Fine-tuned Model2: \n",
      "The method to solve an equation of the form ax + b = 0 is to use the formula for the equation of the form ax + b = 0. The formula is:\n",
      "\n",
      "for i in range(2, 2, 2):\n",
      "    print(i)\n",
      "\n",
      "\n",
      "\n",
      "################################\n",
      "#### Instruction 3: \n",
      "### Instruction:\n",
      "Write a CSS rule to set the text size of all elements with the class “big-header” to 24px.\n",
      "\n",
      "### Response:\n",
      "\n",
      "\n",
      "\n",
      "\n",
      "#### Expected Response 3: \n",
      "\n",
      ".big-header {\n",
      "    font-size: 24px;\n",
      "}\n",
      "\n",
      "\n",
      "\n",
      "#### Generated Response From Fine-tuned Model3: \n",
      ".big-header {\n",
      "    font-size: 24px;\n",
      "    font-family: 'Arial', sans-serif;\n",
      "    font-size: 24px;\n",
      "    font-size: 24px;\n",
      "    font-weight: bold;\n",
      "    font-style: none;\n",
      "    font-weight: bold;\n",
      "    font-size: 24px;\n",
      "    font-style: none;\n",
      "    font-size: 24px;\n",
      "    font-weight: bold;\n",
      "    font-style: none;\n",
      "    font-weight: bold;\n",
      "    font-style: none;\n",
      "    font-style: none;\n",
      "    font-weight: bold;\n",
      "    font-style: none;\n",
      "    font-style: none;\n",
      "    font-weight: bold;\n",
      "    font-style: none;\n",
      "    font-style: none;\n",
      "    font-style: none;\n",
      "    font-weight: bold;\n",
      "    font-style: none;\n",
      "    font-style: none;\n",
      "    font-style: none;\n",
      "    font-style: none;\n",
      "    font-style: none;\n",
      "    font-style: none;\n",
      "    font-style: none;\n",
      "    font-style: none;\n",
      "    font-style: none;\n",
      "    font-style: none;\n",
      "}\n",
      "\n",
      "\n",
      "\n"
     ]
    }
   ],
   "source": [
    "for i in range(3):\n",
    "    print(\"#\"*32)\n",
    "    print(\"#### Instruction \" + str(i+1) + \": \")\n",
    "    print(instruction_test[i])\n",
    "    print(\"\\n\\n\")\n",
    "\n",
    "    print(\"#### Expected Response \" + str(i+1) + \": \")\n",
    "    print(expected_outputs[i])\n",
    "    print(\"\\n\\n\")\n",
    "\n",
    "    print(\"#### Generated Response From Fine-tuned Model\" + str(i+1) + \": \")\n",
    "    print(generated_outputs_finetuned[i])\n",
    "    print(\"\\n\\n\")"
   ]
  },
  {
   "cell_type": "code",
   "execution_count": 47,
   "metadata": {},
   "outputs": [
    {
     "name": "stdout",
     "output_type": "stream",
     "text": [
      "['score', 'counts', 'totals', 'precisions', 'bp', 'sys_len', 'ref_len']\n",
      "7.194311961061762\n"
     ]
    }
   ],
   "source": [
    "sacrebleu = evaluate.load(\"sacrebleu\")\n",
    "results_finetuned = sacrebleu.compute(predictions=generated_outputs_finetuned,\n",
    "                                 references=expected_outputs)\n",
    "print(list(results_finetuned.keys()))\n",
    "print(results_finetuned[\"score\"])"
   ]
  },
  {
   "cell_type": "markdown",
   "metadata": {},
   "source": [
    "After Fine-tuning for 8 epochs with low-rank of 32, the SacreBLEU score goes up from 0.1 to 7.19- a 71.9x improvement."
   ]
  }
 ],
 "metadata": {
  "kernelspec": {
   "display_name": "llm",
   "language": "python",
   "name": "python3"
  },
  "language_info": {
   "codemirror_mode": {
    "name": "ipython",
    "version": 3
   },
   "file_extension": ".py",
   "mimetype": "text/x-python",
   "name": "python",
   "nbconvert_exporter": "python",
   "pygments_lexer": "ipython3",
   "version": "3.12.8"
  }
 },
 "nbformat": 4,
 "nbformat_minor": 2
}
