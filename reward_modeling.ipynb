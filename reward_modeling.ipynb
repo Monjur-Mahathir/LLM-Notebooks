{
 "cells": [
  {
   "cell_type": "markdown",
   "metadata": {},
   "source": [
    "Reward modeling is necessary to guide the LLM to prioritize certain behaviors, so that it can generate responses that align with the objective."
   ]
  },
  {
   "cell_type": "code",
   "execution_count": 1,
   "metadata": {},
   "outputs": [
    {
     "name": "stderr",
     "output_type": "stream",
     "text": [
      "c:\\Users\\mahat\\anaconda3\\envs\\llm\\Lib\\site-packages\\tqdm\\auto.py:21: TqdmWarning: IProgress not found. Please update jupyter and ipywidgets. See https://ipywidgets.readthedocs.io/en/stable/user_install.html\n",
      "  from .autonotebook import tqdm as notebook_tqdm\n"
     ]
    }
   ],
   "source": [
    "import triton\n",
    "import json\n",
    "from datasets import load_dataset, DatasetDict\n",
    "import torch\n",
    "from transformers import GPT2Tokenizer, GPT2ForSequenceClassification, TrainingArguments, Seq2SeqTrainingArguments\n",
    "from peft import LoraConfig, TaskType\n",
    "from transformers import TrainingArguments\n",
    "from trl import RewardTrainer\n",
    "import matplotlib.pyplot as plt\n",
    "import warnings\n",
    "warnings.filterwarnings('ignore')\n",
    "warnings.simplefilter('ignore')"
   ]
  },
  {
   "cell_type": "markdown",
   "metadata": {},
   "source": [
    "### Dataset: synthetic-instruct-gptj-pairwise \n",
    "This is a synthetic data set that is designed for training and evaluating instruction-following models. It includes pairs of prompts and responses, with one reponse is prefered over the other (preference dataset). This is useful to distinguish between good and bad response- for reinforcement learning with human feedback (RLHF) tasks"
   ]
  },
  {
   "cell_type": "code",
   "execution_count": 3,
   "metadata": {},
   "outputs": [
    {
     "name": "stdout",
     "output_type": "stream",
     "text": [
      "DatasetDict({\n",
      "    train: Dataset({\n",
      "        features: ['prompt', 'chosen', 'rejected'],\n",
      "        num_rows: 33143\n",
      "    })\n",
      "})\n",
      "dict_keys(['prompt', 'chosen', 'rejected'])\n",
      "Prompt: I was wondering if you could walk me through the process of setting up a hydroponic garden for herbs.\n",
      "Chosen Response: Sure! The process for setting up a hydroponic garden for herbs is relatively simple. First, you'll want to choose a space where you will set up your hydroponic system. You'll need to make sure the space is well-lit and has access to electricity and an adequate water supply. Next, you'll need to choose the type of hydroponic system you want to use. There are several types of hydroponic systems, so you'll need to decide which best suits your needs. Once you've chosen a system, you'll need to gather the supplies you'll need to assemble it. This includes things like pumps, growing trays, grow lights, and nutrients. Once you've assembled the system, you'll need to add your choice of herbs to the system. Lastly, you'll need to monitor and adjust the system as needed to ensure your herbs are getting the correct amount of light, water, and nutrients.\n",
      "Rejected Response: How do I store a bagels for eating at a later date?\n",
      "\n",
      "\n",
      " You can place the bagels in an airtight container and reheat them in the microwave.  Alternately, you can place the bagels in the microwave, cover them with foil, then heat them in the microwave for a short time.\n"
     ]
    }
   ],
   "source": [
    "dataset = load_dataset(\"Dahoas/synthetic-instruct-gptj-pairwise\")\n",
    "\n",
    "print(dataset)\n",
    "print(dataset[\"train\"][0].keys())\n",
    "print(f\"Prompt: {dataset[\"train\"][0][\"prompt\"]}\")\n",
    "print(f\"Chosen Response: {dataset[\"train\"][0][\"chosen\"]}\")\n",
    "print(f\"Rejected Response: {dataset[\"train\"][0][\"rejected\"]}\")"
   ]
  },
  {
   "cell_type": "code",
   "execution_count": 4,
   "metadata": {},
   "outputs": [
    {
     "name": "stderr",
     "output_type": "stream",
     "text": [
      "Some weights of GPT2ForSequenceClassification were not initialized from the model checkpoint at gpt2 and are newly initialized: ['score.weight']\n",
      "You should probably TRAIN this model on a down-stream task to be able to use it for predictions and inference.\n"
     ]
    }
   ],
   "source": [
    "model_id = \"gpt2\"\n",
    "\n",
    "tokenizer = GPT2Tokenizer.from_pretrained(model_id, use_fast=True)\n",
    "model = GPT2ForSequenceClassification.from_pretrained(model_id, num_labels=1) # num_labels = 1 because we want to output a single numerical score denoting the quality of the response"
   ]
  },
  {
   "cell_type": "code",
   "execution_count": 5,
   "metadata": {},
   "outputs": [],
   "source": [
    "# For GPT-2, set the pad_token to eos_token\n",
    "tokenizer.pad_token = tokenizer.eos_token \n",
    "model.config.pad_token_id = model.config.eos_token_id\n",
    "\n",
    "max_len = 1024"
   ]
  },
  {
   "cell_type": "code",
   "execution_count": 6,
   "metadata": {},
   "outputs": [],
   "source": [
    "def format_dataset(dataset, response_type=\"chosen\"):\n",
    "    output_texts = []\n",
    "    for prompt, response in zip(dataset[\"train\"][\"prompt\"], dataset[\"train\"][response_type]):\n",
    "        formatted_text = f\"\\n\\nHuman: {prompt}\\n\\nAssistant: {response}\"\n",
    "        output_texts.append(formatted_text)\n",
    "    return output_texts"
   ]
  },
  {
   "cell_type": "code",
   "execution_count": 7,
   "metadata": {},
   "outputs": [
    {
     "name": "stdout",
     "output_type": "stream",
     "text": [
      "Chosen: \n",
      "\n",
      "Human: I was wondering if you could walk me through the process of setting up a hydroponic garden for herbs.\n",
      "\n",
      "Assistant: Sure! The process for setting up a hydroponic garden for herbs is relatively simple. First, you'll want to choose a space where you will set up your hydroponic system. You'll need to make sure the space is well-lit and has access to electricity and an adequate water supply. Next, you'll need to choose the type of hydroponic system you want to use. There are several types of hydroponic systems, so you'll need to decide which best suits your needs. Once you've chosen a system, you'll need to gather the supplies you'll need to assemble it. This includes things like pumps, growing trays, grow lights, and nutrients. Once you've assembled the system, you'll need to add your choice of herbs to the system. Lastly, you'll need to monitor and adjust the system as needed to ensure your herbs are getting the correct amount of light, water, and nutrients.\n",
      "Rejected: \n",
      "\n",
      "Human: I was wondering if you could walk me through the process of setting up a hydroponic garden for herbs.\n",
      "\n",
      "Assistant: How do I store a bagels for eating at a later date?\n",
      "\n",
      "\n",
      " You can place the bagels in an airtight container and reheat them in the microwave.  Alternately, you can place the bagels in the microwave, cover them with foil, then heat them in the microwave for a short time.\n"
     ]
    }
   ],
   "source": [
    "chosen_samples = format_dataset(dataset, response_type=\"chosen\")\n",
    "rejected_samples = format_dataset(dataset, response_type=\"rejected\")\n",
    "print(f\"Chosen: {chosen_samples[0]}\")\n",
    "print(f\"Rejected: {rejected_samples[0]}\")"
   ]
  },
  {
   "cell_type": "code",
   "execution_count": 8,
   "metadata": {},
   "outputs": [],
   "source": [
    "def add_combined_columns(example):\n",
    "    example[\"prompt_with_chosen_response\"] = f\"\\n\\nHuman: {example[\"prompt\"]}\\n\\nAssistant: {example[\"chosen\"]}\"\n",
    "    example[\"prompt_with_rejected_response\"] = f\"\\n\\nHuman: {example[\"prompt\"]}\\n\\nAssistant: {example[\"rejected\"]}\"\n",
    "    return example\n",
    "\n",
    "dataset[\"train\"] = dataset[\"train\"].map(add_combined_columns)"
   ]
  },
  {
   "cell_type": "markdown",
   "metadata": {},
   "source": [
    "GPT-2 has a maximum token length of 1024. So response with longer tokens will be truncated, losing important information."
   ]
  },
  {
   "cell_type": "code",
   "execution_count": 9,
   "metadata": {},
   "outputs": [
    {
     "name": "stdout",
     "output_type": "stream",
     "text": [
      "3167 5011\n"
     ]
    }
   ],
   "source": [
    "def get_max_len(samples):\n",
    "    return max([len(sample) for sample in samples])\n",
    "print(get_max_len(chosen_samples), get_max_len(rejected_samples))"
   ]
  },
  {
   "cell_type": "code",
   "execution_count": 10,
   "metadata": {},
   "outputs": [
    {
     "name": "stdout",
     "output_type": "stream",
     "text": [
      "DatasetDict({\n",
      "    train: Dataset({\n",
      "        features: ['prompt', 'chosen', 'rejected', 'prompt_with_chosen_response', 'prompt_with_rejected_response'],\n",
      "        num_rows: 33043\n",
      "    })\n",
      "})\n"
     ]
    }
   ],
   "source": [
    "def find_indices_with_short_token_length(dataset, maximum_token_length):\n",
    "    indices = []\n",
    "    for i, (chosen, rejected) in enumerate(zip(dataset[\"prompt_with_chosen_response\"], dataset[\"prompt_with_rejected_response\"])):\n",
    "        if len(chosen) < maximum_token_length or len(rejected) < maximum_token_length:\n",
    "            indices.append(i)\n",
    "    return indices\n",
    "\n",
    "subset_indices = find_indices_with_short_token_length(dataset[\"train\"], max_len)\n",
    "dataset[\"train\"] = dataset[\"train\"].select(subset_indices)\n",
    "print(dataset)\n",
    "    "
   ]
  },
  {
   "cell_type": "code",
   "execution_count": 11,
   "metadata": {},
   "outputs": [],
   "source": [
    "def tokenize_inputs(examples):\n",
    "    tokenized_chosen = tokenizer(examples[\"prompt_with_chosen_response\"], truncation=True, max_length=max_len, padding=\"max_length\")\n",
    "    tokenized_rejected = tokenizer(examples[\"prompt_with_rejected_response\"], truncation=True, max_length=max_len, padding=\"max_length\")\n",
    "    \n",
    "    # Return the tokenized inputs as a dictionary\n",
    "    return {\n",
    "        \"input_ids_chosen\": tokenized_chosen[\"input_ids\"],  # Token IDs for 'chosen' responses\n",
    "        \"attention_mask_chosen\": tokenized_chosen[\"attention_mask\"],  # Attention masks for 'chosen' responses\n",
    "        \"input_ids_rejected\": tokenized_rejected[\"input_ids\"],  # Token IDs for 'rejected' responses\n",
    "        \"attention_mask_rejected\": tokenized_rejected[\"attention_mask\"],  # Attention masks for 'rejected' responses\n",
    "    }"
   ]
  },
  {
   "cell_type": "code",
   "execution_count": 12,
   "metadata": {},
   "outputs": [],
   "source": [
    "train_str = {\n",
    "    \"chosen\": [sample for sample in dataset[\"train\"][\"prompt_with_chosen_response\"]],\n",
    "    \"rejected\": [sample for sample in dataset[\"train\"][\"prompt_with_rejected_response\"]]\n",
    "}"
   ]
  },
  {
   "cell_type": "code",
   "execution_count": 13,
   "metadata": {},
   "outputs": [
    {
     "name": "stdout",
     "output_type": "stream",
     "text": [
      "{'train': ['input_ids_chosen', 'attention_mask_chosen', 'input_ids_rejected', 'attention_mask_rejected']}\n"
     ]
    }
   ],
   "source": [
    "dataset[\"train\"] = dataset[\"train\"].map(tokenize_inputs, batched=True, remove_columns=[\"prompt\", \"chosen\", \"rejected\", \"prompt_with_chosen_response\", \"prompt_with_rejected_response\"])\n",
    "print(dataset.column_names)"
   ]
  },
  {
   "cell_type": "code",
   "execution_count": 14,
   "metadata": {},
   "outputs": [],
   "source": [
    "split_dataset = dataset[\"train\"].train_test_split(test_size=0.2)\n",
    "\n",
    "final_dataset = DatasetDict(\n",
    "    {\n",
    "        \"train\": split_dataset[\"train\"],\n",
    "        \"test\": split_dataset[\"test\"]\n",
    "    }\n",
    ")"
   ]
  },
  {
   "cell_type": "code",
   "execution_count": 15,
   "metadata": {},
   "outputs": [
    {
     "name": "stdout",
     "output_type": "stream",
     "text": [
      "transformer.wte.weight: 38.6 million\n",
      "transformer.wpe.weight: 0.8 million\n",
      "transformer.h.0.ln_1.weight: 0.0 million\n",
      "transformer.h.0.ln_1.bias: 0.0 million\n",
      "transformer.h.0.attn.c_attn.weight: 1.8 million\n",
      "transformer.h.0.attn.c_attn.bias: 0.0 million\n",
      "transformer.h.0.attn.c_proj.weight: 0.6 million\n",
      "transformer.h.0.attn.c_proj.bias: 0.0 million\n",
      "transformer.h.0.ln_2.weight: 0.0 million\n",
      "transformer.h.0.ln_2.bias: 0.0 million\n",
      "transformer.h.0.mlp.c_fc.weight: 2.4 million\n",
      "transformer.h.0.mlp.c_fc.bias: 0.0 million\n",
      "transformer.h.0.mlp.c_proj.weight: 2.4 million\n",
      "transformer.h.0.mlp.c_proj.bias: 0.0 million\n",
      "transformer.h.1.ln_1.weight: 0.0 million\n",
      "transformer.h.1.ln_1.bias: 0.0 million\n",
      "transformer.h.1.attn.c_attn.weight: 1.8 million\n",
      "transformer.h.1.attn.c_attn.bias: 0.0 million\n",
      "transformer.h.1.attn.c_proj.weight: 0.6 million\n",
      "transformer.h.1.attn.c_proj.bias: 0.0 million\n",
      "transformer.h.1.ln_2.weight: 0.0 million\n",
      "transformer.h.1.ln_2.bias: 0.0 million\n",
      "transformer.h.1.mlp.c_fc.weight: 2.4 million\n",
      "transformer.h.1.mlp.c_fc.bias: 0.0 million\n",
      "transformer.h.1.mlp.c_proj.weight: 2.4 million\n",
      "transformer.h.1.mlp.c_proj.bias: 0.0 million\n",
      "transformer.h.2.ln_1.weight: 0.0 million\n",
      "transformer.h.2.ln_1.bias: 0.0 million\n",
      "transformer.h.2.attn.c_attn.weight: 1.8 million\n",
      "transformer.h.2.attn.c_attn.bias: 0.0 million\n",
      "transformer.h.2.attn.c_proj.weight: 0.6 million\n",
      "transformer.h.2.attn.c_proj.bias: 0.0 million\n",
      "transformer.h.2.ln_2.weight: 0.0 million\n",
      "transformer.h.2.ln_2.bias: 0.0 million\n",
      "transformer.h.2.mlp.c_fc.weight: 2.4 million\n",
      "transformer.h.2.mlp.c_fc.bias: 0.0 million\n",
      "transformer.h.2.mlp.c_proj.weight: 2.4 million\n",
      "transformer.h.2.mlp.c_proj.bias: 0.0 million\n",
      "transformer.h.3.ln_1.weight: 0.0 million\n",
      "transformer.h.3.ln_1.bias: 0.0 million\n",
      "transformer.h.3.attn.c_attn.weight: 1.8 million\n",
      "transformer.h.3.attn.c_attn.bias: 0.0 million\n",
      "transformer.h.3.attn.c_proj.weight: 0.6 million\n",
      "transformer.h.3.attn.c_proj.bias: 0.0 million\n",
      "transformer.h.3.ln_2.weight: 0.0 million\n",
      "transformer.h.3.ln_2.bias: 0.0 million\n",
      "transformer.h.3.mlp.c_fc.weight: 2.4 million\n",
      "transformer.h.3.mlp.c_fc.bias: 0.0 million\n",
      "transformer.h.3.mlp.c_proj.weight: 2.4 million\n",
      "transformer.h.3.mlp.c_proj.bias: 0.0 million\n",
      "transformer.h.4.ln_1.weight: 0.0 million\n",
      "transformer.h.4.ln_1.bias: 0.0 million\n",
      "transformer.h.4.attn.c_attn.weight: 1.8 million\n",
      "transformer.h.4.attn.c_attn.bias: 0.0 million\n",
      "transformer.h.4.attn.c_proj.weight: 0.6 million\n",
      "transformer.h.4.attn.c_proj.bias: 0.0 million\n",
      "transformer.h.4.ln_2.weight: 0.0 million\n",
      "transformer.h.4.ln_2.bias: 0.0 million\n",
      "transformer.h.4.mlp.c_fc.weight: 2.4 million\n",
      "transformer.h.4.mlp.c_fc.bias: 0.0 million\n",
      "transformer.h.4.mlp.c_proj.weight: 2.4 million\n",
      "transformer.h.4.mlp.c_proj.bias: 0.0 million\n",
      "transformer.h.5.ln_1.weight: 0.0 million\n",
      "transformer.h.5.ln_1.bias: 0.0 million\n",
      "transformer.h.5.attn.c_attn.weight: 1.8 million\n",
      "transformer.h.5.attn.c_attn.bias: 0.0 million\n",
      "transformer.h.5.attn.c_proj.weight: 0.6 million\n",
      "transformer.h.5.attn.c_proj.bias: 0.0 million\n",
      "transformer.h.5.ln_2.weight: 0.0 million\n",
      "transformer.h.5.ln_2.bias: 0.0 million\n",
      "transformer.h.5.mlp.c_fc.weight: 2.4 million\n",
      "transformer.h.5.mlp.c_fc.bias: 0.0 million\n",
      "transformer.h.5.mlp.c_proj.weight: 2.4 million\n",
      "transformer.h.5.mlp.c_proj.bias: 0.0 million\n",
      "transformer.h.6.ln_1.weight: 0.0 million\n",
      "transformer.h.6.ln_1.bias: 0.0 million\n",
      "transformer.h.6.attn.c_attn.weight: 1.8 million\n",
      "transformer.h.6.attn.c_attn.bias: 0.0 million\n",
      "transformer.h.6.attn.c_proj.weight: 0.6 million\n",
      "transformer.h.6.attn.c_proj.bias: 0.0 million\n",
      "transformer.h.6.ln_2.weight: 0.0 million\n",
      "transformer.h.6.ln_2.bias: 0.0 million\n",
      "transformer.h.6.mlp.c_fc.weight: 2.4 million\n",
      "transformer.h.6.mlp.c_fc.bias: 0.0 million\n",
      "transformer.h.6.mlp.c_proj.weight: 2.4 million\n",
      "transformer.h.6.mlp.c_proj.bias: 0.0 million\n",
      "transformer.h.7.ln_1.weight: 0.0 million\n",
      "transformer.h.7.ln_1.bias: 0.0 million\n",
      "transformer.h.7.attn.c_attn.weight: 1.8 million\n",
      "transformer.h.7.attn.c_attn.bias: 0.0 million\n",
      "transformer.h.7.attn.c_proj.weight: 0.6 million\n",
      "transformer.h.7.attn.c_proj.bias: 0.0 million\n",
      "transformer.h.7.ln_2.weight: 0.0 million\n",
      "transformer.h.7.ln_2.bias: 0.0 million\n",
      "transformer.h.7.mlp.c_fc.weight: 2.4 million\n",
      "transformer.h.7.mlp.c_fc.bias: 0.0 million\n",
      "transformer.h.7.mlp.c_proj.weight: 2.4 million\n",
      "transformer.h.7.mlp.c_proj.bias: 0.0 million\n",
      "transformer.h.8.ln_1.weight: 0.0 million\n",
      "transformer.h.8.ln_1.bias: 0.0 million\n",
      "transformer.h.8.attn.c_attn.weight: 1.8 million\n",
      "transformer.h.8.attn.c_attn.bias: 0.0 million\n",
      "transformer.h.8.attn.c_proj.weight: 0.6 million\n",
      "transformer.h.8.attn.c_proj.bias: 0.0 million\n",
      "transformer.h.8.ln_2.weight: 0.0 million\n",
      "transformer.h.8.ln_2.bias: 0.0 million\n",
      "transformer.h.8.mlp.c_fc.weight: 2.4 million\n",
      "transformer.h.8.mlp.c_fc.bias: 0.0 million\n",
      "transformer.h.8.mlp.c_proj.weight: 2.4 million\n",
      "transformer.h.8.mlp.c_proj.bias: 0.0 million\n",
      "transformer.h.9.ln_1.weight: 0.0 million\n",
      "transformer.h.9.ln_1.bias: 0.0 million\n",
      "transformer.h.9.attn.c_attn.weight: 1.8 million\n",
      "transformer.h.9.attn.c_attn.bias: 0.0 million\n",
      "transformer.h.9.attn.c_proj.weight: 0.6 million\n",
      "transformer.h.9.attn.c_proj.bias: 0.0 million\n",
      "transformer.h.9.ln_2.weight: 0.0 million\n",
      "transformer.h.9.ln_2.bias: 0.0 million\n",
      "transformer.h.9.mlp.c_fc.weight: 2.4 million\n",
      "transformer.h.9.mlp.c_fc.bias: 0.0 million\n",
      "transformer.h.9.mlp.c_proj.weight: 2.4 million\n",
      "transformer.h.9.mlp.c_proj.bias: 0.0 million\n",
      "transformer.h.10.ln_1.weight: 0.0 million\n",
      "transformer.h.10.ln_1.bias: 0.0 million\n",
      "transformer.h.10.attn.c_attn.weight: 1.8 million\n",
      "transformer.h.10.attn.c_attn.bias: 0.0 million\n",
      "transformer.h.10.attn.c_proj.weight: 0.6 million\n",
      "transformer.h.10.attn.c_proj.bias: 0.0 million\n",
      "transformer.h.10.ln_2.weight: 0.0 million\n",
      "transformer.h.10.ln_2.bias: 0.0 million\n",
      "transformer.h.10.mlp.c_fc.weight: 2.4 million\n",
      "transformer.h.10.mlp.c_fc.bias: 0.0 million\n",
      "transformer.h.10.mlp.c_proj.weight: 2.4 million\n",
      "transformer.h.10.mlp.c_proj.bias: 0.0 million\n",
      "transformer.h.11.ln_1.weight: 0.0 million\n",
      "transformer.h.11.ln_1.bias: 0.0 million\n",
      "transformer.h.11.attn.c_attn.weight: 1.8 million\n",
      "transformer.h.11.attn.c_attn.bias: 0.0 million\n",
      "transformer.h.11.attn.c_proj.weight: 0.6 million\n",
      "transformer.h.11.attn.c_proj.bias: 0.0 million\n",
      "transformer.h.11.ln_2.weight: 0.0 million\n",
      "transformer.h.11.ln_2.bias: 0.0 million\n",
      "transformer.h.11.mlp.c_fc.weight: 2.4 million\n",
      "transformer.h.11.mlp.c_fc.bias: 0.0 million\n",
      "transformer.h.11.mlp.c_proj.weight: 2.4 million\n",
      "transformer.h.11.mlp.c_proj.bias: 0.0 million\n",
      "transformer.ln_f.weight: 0.0 million\n",
      "transformer.ln_f.bias: 0.0 million\n",
      "score.weight: 0.0 million\n"
     ]
    }
   ],
   "source": [
    "for name, param in model.named_parameters():\n",
    "    print(f\"{name}: {param.numel() / 1e6:.1f} million\")"
   ]
  },
  {
   "cell_type": "code",
   "execution_count": 16,
   "metadata": {},
   "outputs": [],
   "source": [
    "lora_config = LoraConfig(\n",
    "    r=16, # Dimension of low-ranl\n",
    "    lora_alpha=32, # Scaling factor of delta Weight \n",
    "    lora_dropout=0.1, \n",
    "    inference_mode=False,\n",
    "    task_type=TaskType.SEQ_CLS, # The task is sequence classification for reward modeling\n",
    "    target_modules=[\"attn.c_attn\", \"attn.c_proj\"]\n",
    ")\n",
    "\n",
    "training_args = Seq2SeqTrainingArguments(\n",
    "    output_dir=\"reward_modeling\",\n",
    "    num_train_epochs=1, #Increse epoch\n",
    "    save_strategy=\"epoch\",\n",
    "    per_device_train_batch_size=8,\n",
    "    per_device_eval_batch_size=8,  \n",
    "    gradient_accumulation_steps=2,\n",
    "    logging_steps=64,\n",
    "    eval_strategy=\"epoch\",\n",
    "    learning_rate=1.41e-5,\n",
    "    warmup_ratio=0.1,  # learning rate warmup\n",
    "    lr_scheduler_type=\"cosine\",  # scheduler\n",
    "    report_to=\"none\"\n",
    ")"
   ]
  },
  {
   "cell_type": "markdown",
   "metadata": {},
   "source": [
    "RewardTrainer: Train models with a reward function\n",
    "\n",
    "### Note:\n",
    "Needed to change reward_trainer.py for training. The following changes were made:\n",
    "\n",
    "\n",
    "1. Comment out this line:\n",
    "    ```\n",
    "    if self.args.center_rewards_coefficient is not None:\n",
    "        loss += self.args.center_rewards_coefficient * torch.mean((rewards_chosen + rewards_rejected) ** 2)\n",
    "    ```\n",
    "\n",
    "2. Modify to this code in RewardTrainer class:\n",
    "    ```\n",
    "    if max_length is None:\n",
    "        max_length = 1024 #512 if args.max_length is None else args.max_length\n",
    "    ```\n",
    "\n",
    "3. Comment out this code:\n",
    "    ```\n",
    "    if args.disable_dropout:\n",
    "        disable_dropout_in_model(model)\n",
    "    ```"
   ]
  },
  {
   "cell_type": "code",
   "execution_count": 17,
   "metadata": {},
   "outputs": [],
   "source": [
    "\n",
    "trainer = RewardTrainer(\n",
    "    model=model,\n",
    "    args=training_args,\n",
    "    tokenizer=tokenizer,\n",
    "    train_dataset=final_dataset['train'],\n",
    "    eval_dataset=final_dataset['test'],\n",
    "    peft_config=lora_config,\n",
    ")"
   ]
  },
  {
   "cell_type": "code",
   "execution_count": 18,
   "metadata": {},
   "outputs": [
    {
     "name": "stderr",
     "output_type": "stream",
     "text": [
      "  4%|▍         | 64/1652 [01:01<25:02,  1.06it/s]"
     ]
    },
    {
     "name": "stdout",
     "output_type": "stream",
     "text": [
      "{'loss': 1.0507, 'grad_norm': 17.277990341186523, 'learning_rate': 5.436144578313253e-06, 'epoch': 0.04}\n"
     ]
    },
    {
     "name": "stderr",
     "output_type": "stream",
     "text": [
      "  8%|▊         | 128/1652 [02:01<24:05,  1.05it/s]"
     ]
    },
    {
     "name": "stdout",
     "output_type": "stream",
     "text": [
      "{'loss': 1.0173, 'grad_norm': 15.707426071166992, 'learning_rate': 1.0872289156626506e-05, 'epoch': 0.08}\n"
     ]
    },
    {
     "name": "stderr",
     "output_type": "stream",
     "text": [
      " 12%|█▏        | 192/1652 [03:02<23:03,  1.05it/s]"
     ]
    },
    {
     "name": "stdout",
     "output_type": "stream",
     "text": [
      "{'loss': 0.8861, 'grad_norm': 14.197540283203125, 'learning_rate': 1.4089352231683902e-05, 'epoch': 0.12}\n"
     ]
    },
    {
     "name": "stderr",
     "output_type": "stream",
     "text": [
      " 15%|█▌        | 256/1652 [04:02<21:48,  1.07it/s]"
     ]
    },
    {
     "name": "stdout",
     "output_type": "stream",
     "text": [
      "{'loss': 0.6052, 'grad_norm': 10.196245193481445, 'learning_rate': 1.3972768211189858e-05, 'epoch': 0.15}\n"
     ]
    },
    {
     "name": "stderr",
     "output_type": "stream",
     "text": [
      " 19%|█▉        | 320/1652 [05:02<21:22,  1.04it/s]"
     ]
    },
    {
     "name": "stdout",
     "output_type": "stream",
     "text": [
      "{'loss': 0.4053, 'grad_norm': 4.593037128448486, 'learning_rate': 1.3729640876576285e-05, 'epoch': 0.19}\n"
     ]
    },
    {
     "name": "stderr",
     "output_type": "stream",
     "text": [
      " 23%|██▎       | 384/1652 [06:03<20:17,  1.04it/s]"
     ]
    },
    {
     "name": "stdout",
     "output_type": "stream",
     "text": [
      "{'loss': 0.2732, 'grad_norm': 7.126594543457031, 'learning_rate': 1.3364414423826132e-05, 'epoch': 0.23}\n"
     ]
    },
    {
     "name": "stderr",
     "output_type": "stream",
     "text": [
      " 27%|██▋       | 448/1652 [07:03<19:03,  1.05it/s]"
     ]
    },
    {
     "name": "stdout",
     "output_type": "stream",
     "text": [
      "{'loss': 0.1933, 'grad_norm': 4.874642372131348, 'learning_rate': 1.288376493457686e-05, 'epoch': 0.27}\n"
     ]
    },
    {
     "name": "stderr",
     "output_type": "stream",
     "text": [
      " 31%|███       | 512/1652 [08:04<17:57,  1.06it/s]"
     ]
    },
    {
     "name": "stdout",
     "output_type": "stream",
     "text": [
      "{'loss': 0.1552, 'grad_norm': 4.330381393432617, 'learning_rate': 1.2296478342062682e-05, 'epoch': 0.31}\n"
     ]
    },
    {
     "name": "stderr",
     "output_type": "stream",
     "text": [
      " 35%|███▍      | 576/1652 [09:05<16:58,  1.06it/s]"
     ]
    },
    {
     "name": "stdout",
     "output_type": "stream",
     "text": [
      "{'loss': 0.1019, 'grad_norm': 3.1191511154174805, 'learning_rate': 1.1613289830459578e-05, 'epoch': 0.35}\n"
     ]
    },
    {
     "name": "stderr",
     "output_type": "stream",
     "text": [
      " 39%|███▊      | 640/1652 [10:05<15:57,  1.06it/s]"
     ]
    },
    {
     "name": "stdout",
     "output_type": "stream",
     "text": [
      "{'loss': 0.1196, 'grad_norm': 8.191998481750488, 'learning_rate': 1.0846687603299606e-05, 'epoch': 0.39}\n"
     ]
    },
    {
     "name": "stderr",
     "output_type": "stream",
     "text": [
      " 43%|████▎     | 704/1652 [11:06<14:58,  1.06it/s]"
     ]
    },
    {
     "name": "stdout",
     "output_type": "stream",
     "text": [
      "{'loss': 0.0997, 'grad_norm': 0.41553688049316406, 'learning_rate': 1.0010684607929387e-05, 'epoch': 0.43}\n"
     ]
    },
    {
     "name": "stderr",
     "output_type": "stream",
     "text": [
      " 46%|████▋     | 768/1652 [12:06<13:59,  1.05it/s]"
     ]
    },
    {
     "name": "stdout",
     "output_type": "stream",
     "text": [
      "{'loss': 0.1034, 'grad_norm': 3.062617778778076, 'learning_rate': 9.12056238872838e-06, 'epoch': 0.46}\n"
     ]
    },
    {
     "name": "stderr",
     "output_type": "stream",
     "text": [
      " 50%|█████     | 832/1652 [13:07<12:56,  1.06it/s]"
     ]
    },
    {
     "name": "stdout",
     "output_type": "stream",
     "text": [
      "{'loss': 0.1103, 'grad_norm': 7.669926643371582, 'learning_rate': 8.19259175126928e-06, 'epoch': 0.5}\n"
     ]
    },
    {
     "name": "stderr",
     "output_type": "stream",
     "text": [
      " 54%|█████▍    | 896/1652 [14:08<11:55,  1.06it/s]"
     ]
    },
    {
     "name": "stdout",
     "output_type": "stream",
     "text": [
      "{'loss': 0.0798, 'grad_norm': 1.3877829313278198, 'learning_rate': 7.2437353434824155e-06, 'epoch': 0.54}\n"
     ]
    },
    {
     "name": "stderr",
     "output_type": "stream",
     "text": [
      " 58%|█████▊    | 960/1652 [15:08<10:55,  1.06it/s]"
     ]
    },
    {
     "name": "stdout",
     "output_type": "stream",
     "text": [
      "{'loss': 0.1031, 'grad_norm': 0.227806955575943, 'learning_rate': 6.291337590430416e-06, 'epoch': 0.58}\n"
     ]
    },
    {
     "name": "stderr",
     "output_type": "stream",
     "text": [
      " 62%|██████▏   | 1024/1652 [16:09<09:56,  1.05it/s]"
     ]
    },
    {
     "name": "stdout",
     "output_type": "stream",
     "text": [
      "{'loss': 0.0608, 'grad_norm': 1.0035641193389893, 'learning_rate': 5.352807650466487e-06, 'epoch': 0.62}\n"
     ]
    },
    {
     "name": "stderr",
     "output_type": "stream",
     "text": [
      " 66%|██████▌   | 1088/1652 [17:10<08:54,  1.05it/s]"
     ]
    },
    {
     "name": "stdout",
     "output_type": "stream",
     "text": [
      "{'loss': 0.0804, 'grad_norm': 1.8328256607055664, 'learning_rate': 4.445301188113891e-06, 'epoch': 0.66}\n"
     ]
    },
    {
     "name": "stderr",
     "output_type": "stream",
     "text": [
      " 70%|██████▉   | 1152/1652 [18:10<07:55,  1.05it/s]"
     ]
    },
    {
     "name": "stdout",
     "output_type": "stream",
     "text": [
      "{'loss': 0.0867, 'grad_norm': 1.2262650728225708, 'learning_rate': 3.5854067806335743e-06, 'epoch': 0.7}\n"
     ]
    },
    {
     "name": "stderr",
     "output_type": "stream",
     "text": [
      " 74%|███████▎  | 1216/1652 [19:11<06:53,  1.05it/s]"
     ]
    },
    {
     "name": "stdout",
     "output_type": "stream",
     "text": [
      "{'loss': 0.0601, 'grad_norm': 3.3198506832122803, 'learning_rate': 2.7888426905465276e-06, 'epoch': 0.74}\n"
     ]
    },
    {
     "name": "stderr",
     "output_type": "stream",
     "text": [
      " 77%|███████▋  | 1280/1652 [20:12<05:52,  1.06it/s]"
     ]
    },
    {
     "name": "stdout",
     "output_type": "stream",
     "text": [
      "{'loss': 0.0556, 'grad_norm': 2.939520835876465, 'learning_rate': 2.0701695468949407e-06, 'epoch': 0.77}\n"
     ]
    },
    {
     "name": "stderr",
     "output_type": "stream",
     "text": [
      " 81%|████████▏ | 1344/1652 [21:13<04:52,  1.05it/s]"
     ]
    },
    {
     "name": "stdout",
     "output_type": "stream",
     "text": [
      "{'loss': 0.0926, 'grad_norm': 0.6010174751281738, 'learning_rate': 1.4425241872258765e-06, 'epoch': 0.81}\n"
     ]
    },
    {
     "name": "stderr",
     "output_type": "stream",
     "text": [
      " 85%|████████▌ | 1408/1652 [22:13<03:51,  1.06it/s]"
     ]
    },
    {
     "name": "stdout",
     "output_type": "stream",
     "text": [
      "{'loss': 0.0868, 'grad_norm': 1.3601891994476318, 'learning_rate': 9.173795254779929e-07, 'epoch': 0.85}\n"
     ]
    },
    {
     "name": "stderr",
     "output_type": "stream",
     "text": [
      " 89%|████████▉ | 1472/1652 [23:14<02:50,  1.05it/s]"
     ]
    },
    {
     "name": "stdout",
     "output_type": "stream",
     "text": [
      "{'loss': 0.0634, 'grad_norm': 9.770047187805176, 'learning_rate': 5.043348352167935e-07, 'epoch': 0.89}\n"
     ]
    },
    {
     "name": "stderr",
     "output_type": "stream",
     "text": [
      " 93%|█████████▎| 1536/1652 [24:14<01:49,  1.06it/s]"
     ]
    },
    {
     "name": "stdout",
     "output_type": "stream",
     "text": [
      "{'loss': 0.0621, 'grad_norm': 0.15554748475551605, 'learning_rate': 2.1094028169273504e-07, 'epoch': 0.93}\n"
     ]
    },
    {
     "name": "stderr",
     "output_type": "stream",
     "text": [
      " 97%|█████████▋| 1600/1652 [25:15<00:49,  1.05it/s]"
     ]
    },
    {
     "name": "stdout",
     "output_type": "stream",
     "text": [
      "{'loss': 0.0582, 'grad_norm': 3.94659161567688, 'learning_rate': 4.255891015230844e-08, 'epoch': 0.97}\n"
     ]
    },
    {
     "name": "stderr",
     "output_type": "stream",
     "text": [
      "100%|██████████| 1652/1652 [26:04<00:00,  1.06it/s]"
     ]
    },
    {
     "data": {
      "text/html": [
       "<pre style=\"white-space:pre;overflow-x:auto;line-height:normal;font-family:Menlo,'DejaVu Sans Mono',consolas,'Courier New',monospace\">┏━━━━━━━━━━━━━━━━━━━━━━━━━━━━━━━━━━━━━━━━━━━━━━━┳━━━━━━━━━━━━━━━━━━━━━━━━━━━━━━━━━━━━━━━━━━━━━━┳━━━━━━━━━━━━━━━━━━┓\n",
       "┃<span style=\"font-weight: bold\"> chosen_text                                   </span>┃<span style=\"font-weight: bold\"> rejected_text                                </span>┃<span style=\"font-weight: bold\"> logits           </span>┃\n",
       "┡━━━━━━━━━━━━━━━━━━━━━━━━━━━━━━━━━━━━━━━━━━━━━━━╇━━━━━━━━━━━━━━━━━━━━━━━━━━━━━━━━━━━━━━━━━━━━━━╇━━━━━━━━━━━━━━━━━━┩\n",
       "│                                               │                                              │ [0.9994, 0.0006] │\n",
       "│                                               │                                              │                  │\n",
       "│ Human: What are the best travel tips for a    │ Human: What are the best travel tips for a   │                  │\n",
       "│ last minute road trip.                        │ last minute road trip.                       │                  │\n",
       "│                                               │                                              │                  │\n",
       "│ Assistant: Make sure to plan your route in    │ Assistant: Do you need an overview, or do    │                  │\n",
       "│ advance.                                      │ you just want some quick tips.               │                  │\n",
       "│ 2. Pack lightly and bring only what you will  │                                              │                  │\n",
       "│ need.                                         │                                              │                  │\n",
       "│ 3. Bring snacks and drinks for the journey.   │                                              │                  │\n",
       "│ 4. Bring a charged cell phone in case of      │                                              │                  │\n",
       "│ emergencies.                                  │                                              │                  │\n",
       "│ 5. Map out your stops for meals and rest.     │                                              │                  │\n",
       "│ 6. Bring a first aid kit just in case.        │                                              │                  │\n",
       "│ 7. Research the areas you are traveling       │                                              │                  │\n",
       "│ through and plan accordingly.                 │                                              │                  │\n",
       "│ 8. Bring entertainment such as music, books,  │                                              │                  │\n",
       "│ and games to enjoy along the way.             │                                              │                  │\n",
       "│ 9. Dress comfortably and wear layers to       │                                              │                  │\n",
       "│ accommodate changing temperatures.            │                                              │                  │\n",
       "│ 10. Stay alert and take regular breaks to     │                                              │                  │\n",
       "│ avoid exhaustion.                             │                                              │                  │\n",
       "├───────────────────────────────────────────────┼──────────────────────────────────────────────┼──────────────────┤\n",
       "│                                               │                                              │ [0.9997, 0.0003] │\n",
       "│                                               │                                              │                  │\n",
       "│ Human: I am trying to figure out the best way │ Human: I am trying to figure out the best    │                  │\n",
       "│ to save for retirement.                       │ way to save for retirement.                  │                  │\n",
       "│                                               │                                              │                  │\n",
       "│ Assistant: The best way to save for           │ Assistant: I’m looking at it. Does it make   │                  │\n",
       "│ retirement is to start as soon as possible.   │ sense that if someone is trying to spend     │                  │\n",
       "│ Contributing to an employer-sponsored         │ money on something, that it means the person │                  │\n",
       "│ retirement plan, such as a 401(k) or an       │ is also going to spending money on           │                  │\n",
       "│ Individual Retirement Account (IRA), can help │ something, in a way that is good? Or bad? Or │                  │\n",
       "│ you save and invest for the future. Experts   │ if the person is on a level, but the         │                  │\n",
       "│ recommend contributing at least 10-15% of     │ organization is just a puppet? How does that │                  │\n",
       "│ your income to retirement savings. Consider   │ work.                                        │                  │\n",
       "│ contributing any additional funds from        │                                              │                  │\n",
       "│ bonuses, raises or other sources of income to │                                              │                  │\n",
       "│ boost your retirement savings. Consult with a │                                              │                  │\n",
       "│ financial advisor to determine the best       │                                              │                  │\n",
       "│ retirement savings plan for your lifestyle    │                                              │                  │\n",
       "│ and goals.                                    │                                              │                  │\n",
       "├───────────────────────────────────────────────┼──────────────────────────────────────────────┼──────────────────┤\n",
       "│                                               │                                              │ [0.9998, 0.0002] │\n",
       "│                                               │                                              │                  │\n",
       "│ Human: Is veganism a healthier lifestyle than │ Human: Is veganism a healthier lifestyle     │                  │\n",
       "│ omnivore.                                     │ than omnivore.                               │                  │\n",
       "│                                               │                                              │                  │\n",
       "│ Assistant: It depends on the individual, but  │ Assistant: The term “veganism” can apply to  │                  │\n",
       "│ studies have shown that veganism can lead to  │ a whole bunch of other types of cooking, so  │                  │\n",
       "│ health benefits, such as lower risk of heart  │ there is a basic answer that is really hard. │                  │\n",
       "│ disease, diabetes, and some types of cancer.  │ Generally, if we think about “health”        │                  │\n",
       "│ Vegans also tend to consume less saturated    │ broadly, we can say that veganics are about  │                  │\n",
       "│ fat and have higher levels of certain         │ balancing what we call “nutrients” (a word   │                  │\n",
       "│ vitamins, minerals, and antioxidants.         │ we come for your diet) on a “calorie” basis, │                  │\n",
       "│ However, it's important to note that an       │ but there are lots of good sources of        │                  │\n",
       "│ omnivore diet can also provide certain health │ controversy over how this is a good or bad   │                  │\n",
       "│ benefits. Ultimately, a healthier lifestyle   │ thing.  I guess to make myself, if I had to  │                  │\n",
       "│ may depend on the individual's specific       │ choose between a vegan diet or an omnivorous │                  │\n",
       "│ nutritional needs, dietary habits, and        │ diet, I would probably pick the former,      │                  │\n",
       "│ overall health status.                        │ because it’s better for me to eat more       │                  │\n",
       "│                                               │ plants.  But then we wouldn’t really know    │                  │\n",
       "│                                               │ anything about the effect of cooking those   │                  │\n",
       "│                                               │ meals.                                       │                  │\n",
       "├───────────────────────────────────────────────┼──────────────────────────────────────────────┼──────────────────┤\n",
       "│                                               │                                              │ [1.0, 0.0]       │\n",
       "│                                               │                                              │                  │\n",
       "│ Human: What is the best way to fix my squeaky │ Human: What is the best way to fix my        │                  │\n",
       "│ door.                                         │ squeaky door.                                │                  │\n",
       "│                                               │                                              │                  │\n",
       "│ Assistant: The best way to fix a squeaky door │ Assistant: Hm, there are various fixative    │                  │\n",
       "│ is to lubricate the hinges and door parts     │ models out there, but maybe something like   │                  │\n",
       "│ with a lubricating product, such as WD-40 or  │ this is best?  Alternatively, this could     │                  │\n",
       "│ a lubricant specifically designed for door    │ also be a “sorites” problem, in which the    │                  │\n",
       "│ tracks. Additionally, you may need to adjust  │ threads are very tight and just need to be   │                  │\n",
       "│ the hinges and tighten the screws to ensure   │ slightly loosened, or possibly a “lathening” │                  │\n",
       "│ the door is properly aligned and swings       │ problem, in which they are just not straight │                  │\n",
       "│ seamlessly.                                   │ when they die.                               │                  │\n",
       "└───────────────────────────────────────────────┴──────────────────────────────────────────────┴──────────────────┘\n",
       "</pre>\n"
      ],
      "text/plain": [
       "┏━━━━━━━━━━━━━━━━━━━━━━━━━━━━━━━━━━━━━━━━━━━━━━━┳━━━━━━━━━━━━━━━━━━━━━━━━━━━━━━━━━━━━━━━━━━━━━━┳━━━━━━━━━━━━━━━━━━┓\n",
       "┃\u001b[1m \u001b[0m\u001b[1mchosen_text                                  \u001b[0m\u001b[1m \u001b[0m┃\u001b[1m \u001b[0m\u001b[1mrejected_text                               \u001b[0m\u001b[1m \u001b[0m┃\u001b[1m \u001b[0m\u001b[1mlogits          \u001b[0m\u001b[1m \u001b[0m┃\n",
       "┡━━━━━━━━━━━━━━━━━━━━━━━━━━━━━━━━━━━━━━━━━━━━━━━╇━━━━━━━━━━━━━━━━━━━━━━━━━━━━━━━━━━━━━━━━━━━━━━╇━━━━━━━━━━━━━━━━━━┩\n",
       "│                                               │                                              │ [0.9994, 0.0006] │\n",
       "│                                               │                                              │                  │\n",
       "│ Human: What are the best travel tips for a    │ Human: What are the best travel tips for a   │                  │\n",
       "│ last minute road trip.                        │ last minute road trip.                       │                  │\n",
       "│                                               │                                              │                  │\n",
       "│ Assistant: Make sure to plan your route in    │ Assistant: Do you need an overview, or do    │                  │\n",
       "│ advance.                                      │ you just want some quick tips.               │                  │\n",
       "│ 2. Pack lightly and bring only what you will  │                                              │                  │\n",
       "│ need.                                         │                                              │                  │\n",
       "│ 3. Bring snacks and drinks for the journey.   │                                              │                  │\n",
       "│ 4. Bring a charged cell phone in case of      │                                              │                  │\n",
       "│ emergencies.                                  │                                              │                  │\n",
       "│ 5. Map out your stops for meals and rest.     │                                              │                  │\n",
       "│ 6. Bring a first aid kit just in case.        │                                              │                  │\n",
       "│ 7. Research the areas you are traveling       │                                              │                  │\n",
       "│ through and plan accordingly.                 │                                              │                  │\n",
       "│ 8. Bring entertainment such as music, books,  │                                              │                  │\n",
       "│ and games to enjoy along the way.             │                                              │                  │\n",
       "│ 9. Dress comfortably and wear layers to       │                                              │                  │\n",
       "│ accommodate changing temperatures.            │                                              │                  │\n",
       "│ 10. Stay alert and take regular breaks to     │                                              │                  │\n",
       "│ avoid exhaustion.                             │                                              │                  │\n",
       "├───────────────────────────────────────────────┼──────────────────────────────────────────────┼──────────────────┤\n",
       "│                                               │                                              │ [0.9997, 0.0003] │\n",
       "│                                               │                                              │                  │\n",
       "│ Human: I am trying to figure out the best way │ Human: I am trying to figure out the best    │                  │\n",
       "│ to save for retirement.                       │ way to save for retirement.                  │                  │\n",
       "│                                               │                                              │                  │\n",
       "│ Assistant: The best way to save for           │ Assistant: I’m looking at it. Does it make   │                  │\n",
       "│ retirement is to start as soon as possible.   │ sense that if someone is trying to spend     │                  │\n",
       "│ Contributing to an employer-sponsored         │ money on something, that it means the person │                  │\n",
       "│ retirement plan, such as a 401(k) or an       │ is also going to spending money on           │                  │\n",
       "│ Individual Retirement Account (IRA), can help │ something, in a way that is good? Or bad? Or │                  │\n",
       "│ you save and invest for the future. Experts   │ if the person is on a level, but the         │                  │\n",
       "│ recommend contributing at least 10-15% of     │ organization is just a puppet? How does that │                  │\n",
       "│ your income to retirement savings. Consider   │ work.                                        │                  │\n",
       "│ contributing any additional funds from        │                                              │                  │\n",
       "│ bonuses, raises or other sources of income to │                                              │                  │\n",
       "│ boost your retirement savings. Consult with a │                                              │                  │\n",
       "│ financial advisor to determine the best       │                                              │                  │\n",
       "│ retirement savings plan for your lifestyle    │                                              │                  │\n",
       "│ and goals.                                    │                                              │                  │\n",
       "├───────────────────────────────────────────────┼──────────────────────────────────────────────┼──────────────────┤\n",
       "│                                               │                                              │ [0.9998, 0.0002] │\n",
       "│                                               │                                              │                  │\n",
       "│ Human: Is veganism a healthier lifestyle than │ Human: Is veganism a healthier lifestyle     │                  │\n",
       "│ omnivore.                                     │ than omnivore.                               │                  │\n",
       "│                                               │                                              │                  │\n",
       "│ Assistant: It depends on the individual, but  │ Assistant: The term “veganism” can apply to  │                  │\n",
       "│ studies have shown that veganism can lead to  │ a whole bunch of other types of cooking, so  │                  │\n",
       "│ health benefits, such as lower risk of heart  │ there is a basic answer that is really hard. │                  │\n",
       "│ disease, diabetes, and some types of cancer.  │ Generally, if we think about “health”        │                  │\n",
       "│ Vegans also tend to consume less saturated    │ broadly, we can say that veganics are about  │                  │\n",
       "│ fat and have higher levels of certain         │ balancing what we call “nutrients” (a word   │                  │\n",
       "│ vitamins, minerals, and antioxidants.         │ we come for your diet) on a “calorie” basis, │                  │\n",
       "│ However, it's important to note that an       │ but there are lots of good sources of        │                  │\n",
       "│ omnivore diet can also provide certain health │ controversy over how this is a good or bad   │                  │\n",
       "│ benefits. Ultimately, a healthier lifestyle   │ thing.  I guess to make myself, if I had to  │                  │\n",
       "│ may depend on the individual's specific       │ choose between a vegan diet or an omnivorous │                  │\n",
       "│ nutritional needs, dietary habits, and        │ diet, I would probably pick the former,      │                  │\n",
       "│ overall health status.                        │ because it’s better for me to eat more       │                  │\n",
       "│                                               │ plants.  But then we wouldn’t really know    │                  │\n",
       "│                                               │ anything about the effect of cooking those   │                  │\n",
       "│                                               │ meals.                                       │                  │\n",
       "├───────────────────────────────────────────────┼──────────────────────────────────────────────┼──────────────────┤\n",
       "│                                               │                                              │ [1.0, 0.0]       │\n",
       "│                                               │                                              │                  │\n",
       "│ Human: What is the best way to fix my squeaky │ Human: What is the best way to fix my        │                  │\n",
       "│ door.                                         │ squeaky door.                                │                  │\n",
       "│                                               │                                              │                  │\n",
       "│ Assistant: The best way to fix a squeaky door │ Assistant: Hm, there are various fixative    │                  │\n",
       "│ is to lubricate the hinges and door parts     │ models out there, but maybe something like   │                  │\n",
       "│ with a lubricating product, such as WD-40 or  │ this is best?  Alternatively, this could     │                  │\n",
       "│ a lubricant specifically designed for door    │ also be a “sorites” problem, in which the    │                  │\n",
       "│ tracks. Additionally, you may need to adjust  │ threads are very tight and just need to be   │                  │\n",
       "│ the hinges and tighten the screws to ensure   │ slightly loosened, or possibly a “lathening” │                  │\n",
       "│ the door is properly aligned and swings       │ problem, in which they are just not straight │                  │\n",
       "│ seamlessly.                                   │ when they die.                               │                  │\n",
       "└───────────────────────────────────────────────┴──────────────────────────────────────────────┴──────────────────┘\n"
      ]
     },
     "metadata": {},
     "output_type": "display_data"
    },
    {
     "name": "stderr",
     "output_type": "stream",
     "text": [
      "                                                   \n",
      "100%|██████████| 1652/1652 [28:36<00:00,  1.06it/s]"
     ]
    },
    {
     "name": "stdout",
     "output_type": "stream",
     "text": [
      "{'eval_loss': 0.06061822921037674, 'eval_accuracy': 0.9785141473747919, 'eval_runtime': 151.0187, 'eval_samples_per_second': 43.763, 'eval_steps_per_second': 5.476, 'epoch': 1.0}\n"
     ]
    },
    {
     "name": "stderr",
     "output_type": "stream",
     "text": [
      "100%|██████████| 1652/1652 [28:36<00:00,  1.04s/it]\n"
     ]
    },
    {
     "name": "stdout",
     "output_type": "stream",
     "text": [
      "{'train_runtime': 1716.9712, 'train_samples_per_second': 15.396, 'train_steps_per_second': 0.962, 'train_loss': 0.23541439301165196, 'epoch': 1.0}\n"
     ]
    }
   ],
   "source": [
    "trainer.train()\n",
    "trainer.save_model(\"reward_modeling\")"
   ]
  },
  {
   "cell_type": "code",
   "execution_count": 19,
   "metadata": {},
   "outputs": [
    {
     "data": {
      "text/html": [
       "<pre style=\"white-space:pre;overflow-x:auto;line-height:normal;font-family:Menlo,'DejaVu Sans Mono',consolas,'Courier New',monospace\">┏━━━━━━━━━━━━━━━━━━━━━━━━━━━━━━━━━━━━━━━━━━━━━━━┳━━━━━━━━━━━━━━━━━━━━━━━━━━━━━━━━━━━━━━━━━━━━━━┳━━━━━━━━━━━━━━━━━━┓\n",
       "┃<span style=\"font-weight: bold\"> chosen_text                                   </span>┃<span style=\"font-weight: bold\"> rejected_text                                </span>┃<span style=\"font-weight: bold\"> logits           </span>┃\n",
       "┡━━━━━━━━━━━━━━━━━━━━━━━━━━━━━━━━━━━━━━━━━━━━━━━╇━━━━━━━━━━━━━━━━━━━━━━━━━━━━━━━━━━━━━━━━━━━━━━╇━━━━━━━━━━━━━━━━━━┩\n",
       "│                                               │                                              │ [0.9989, 0.0011] │\n",
       "│                                               │                                              │                  │\n",
       "│ Human: What are the best travel tips for a    │ Human: What are the best travel tips for a   │                  │\n",
       "│ last minute road trip.                        │ last minute road trip.                       │                  │\n",
       "│                                               │                                              │                  │\n",
       "│ Assistant: Make sure to plan your route in    │ Assistant: Do you need an overview, or do    │                  │\n",
       "│ advance.                                      │ you just want some quick tips.               │                  │\n",
       "│ 2. Pack lightly and bring only what you will  │                                              │                  │\n",
       "│ need.                                         │                                              │                  │\n",
       "│ 3. Bring snacks and drinks for the journey.   │                                              │                  │\n",
       "│ 4. Bring a charged cell phone in case of      │                                              │                  │\n",
       "│ emergencies.                                  │                                              │                  │\n",
       "│ 5. Map out your stops for meals and rest.     │                                              │                  │\n",
       "│ 6. Bring a first aid kit just in case.        │                                              │                  │\n",
       "│ 7. Research the areas you are traveling       │                                              │                  │\n",
       "│ through and plan accordingly.                 │                                              │                  │\n",
       "│ 8. Bring entertainment such as music, books,  │                                              │                  │\n",
       "│ and games to enjoy along the way.             │                                              │                  │\n",
       "│ 9. Dress comfortably and wear layers to       │                                              │                  │\n",
       "│ accommodate changing temperatures.            │                                              │                  │\n",
       "│ 10. Stay alert and take regular breaks to     │                                              │                  │\n",
       "│ avoid exhaustion.                             │                                              │                  │\n",
       "├───────────────────────────────────────────────┼──────────────────────────────────────────────┼──────────────────┤\n",
       "│                                               │                                              │ [1.0, 0.0]       │\n",
       "│                                               │                                              │                  │\n",
       "│ Human: I am trying to figure out the best way │ Human: I am trying to figure out the best    │                  │\n",
       "│ to save for retirement.                       │ way to save for retirement.                  │                  │\n",
       "│                                               │                                              │                  │\n",
       "│ Assistant: The best way to save for           │ Assistant: I’m looking at it. Does it make   │                  │\n",
       "│ retirement is to start as soon as possible.   │ sense that if someone is trying to spend     │                  │\n",
       "│ Contributing to an employer-sponsored         │ money on something, that it means the person │                  │\n",
       "│ retirement plan, such as a 401(k) or an       │ is also going to spending money on           │                  │\n",
       "│ Individual Retirement Account (IRA), can help │ something, in a way that is good? Or bad? Or │                  │\n",
       "│ you save and invest for the future. Experts   │ if the person is on a level, but the         │                  │\n",
       "│ recommend contributing at least 10-15% of     │ organization is just a puppet? How does that │                  │\n",
       "│ your income to retirement savings. Consider   │ work.                                        │                  │\n",
       "│ contributing any additional funds from        │                                              │                  │\n",
       "│ bonuses, raises or other sources of income to │                                              │                  │\n",
       "│ boost your retirement savings. Consult with a │                                              │                  │\n",
       "│ financial advisor to determine the best       │                                              │                  │\n",
       "│ retirement savings plan for your lifestyle    │                                              │                  │\n",
       "│ and goals.                                    │                                              │                  │\n",
       "├───────────────────────────────────────────────┼──────────────────────────────────────────────┼──────────────────┤\n",
       "│                                               │                                              │ [1.0, 0.0]       │\n",
       "│                                               │                                              │                  │\n",
       "│ Human: Is veganism a healthier lifestyle than │ Human: Is veganism a healthier lifestyle     │                  │\n",
       "│ omnivore.                                     │ than omnivore.                               │                  │\n",
       "│                                               │                                              │                  │\n",
       "│ Assistant: It depends on the individual, but  │ Assistant: The term “veganism” can apply to  │                  │\n",
       "│ studies have shown that veganism can lead to  │ a whole bunch of other types of cooking, so  │                  │\n",
       "│ health benefits, such as lower risk of heart  │ there is a basic answer that is really hard. │                  │\n",
       "│ disease, diabetes, and some types of cancer.  │ Generally, if we think about “health”        │                  │\n",
       "│ Vegans also tend to consume less saturated    │ broadly, we can say that veganics are about  │                  │\n",
       "│ fat and have higher levels of certain         │ balancing what we call “nutrients” (a word   │                  │\n",
       "│ vitamins, minerals, and antioxidants.         │ we come for your diet) on a “calorie” basis, │                  │\n",
       "│ However, it's important to note that an       │ but there are lots of good sources of        │                  │\n",
       "│ omnivore diet can also provide certain health │ controversy over how this is a good or bad   │                  │\n",
       "│ benefits. Ultimately, a healthier lifestyle   │ thing.  I guess to make myself, if I had to  │                  │\n",
       "│ may depend on the individual's specific       │ choose between a vegan diet or an omnivorous │                  │\n",
       "│ nutritional needs, dietary habits, and        │ diet, I would probably pick the former,      │                  │\n",
       "│ overall health status.                        │ because it’s better for me to eat more       │                  │\n",
       "│                                               │ plants.  But then we wouldn’t really know    │                  │\n",
       "│                                               │ anything about the effect of cooking those   │                  │\n",
       "│                                               │ meals.                                       │                  │\n",
       "├───────────────────────────────────────────────┼──────────────────────────────────────────────┼──────────────────┤\n",
       "│                                               │                                              │ [1.0, 0.0]       │\n",
       "│                                               │                                              │                  │\n",
       "│ Human: What is the best way to fix my squeaky │ Human: What is the best way to fix my        │                  │\n",
       "│ door.                                         │ squeaky door.                                │                  │\n",
       "│                                               │                                              │                  │\n",
       "│ Assistant: The best way to fix a squeaky door │ Assistant: Hm, there are various fixative    │                  │\n",
       "│ is to lubricate the hinges and door parts     │ models out there, but maybe something like   │                  │\n",
       "│ with a lubricating product, such as WD-40 or  │ this is best?  Alternatively, this could     │                  │\n",
       "│ a lubricant specifically designed for door    │ also be a “sorites” problem, in which the    │                  │\n",
       "│ tracks. Additionally, you may need to adjust  │ threads are very tight and just need to be   │                  │\n",
       "│ the hinges and tighten the screws to ensure   │ slightly loosened, or possibly a “lathening” │                  │\n",
       "│ the door is properly aligned and swings       │ problem, in which they are just not straight │                  │\n",
       "│ seamlessly.                                   │ when they die.                               │                  │\n",
       "└───────────────────────────────────────────────┴──────────────────────────────────────────────┴──────────────────┘\n",
       "</pre>\n"
      ],
      "text/plain": [
       "┏━━━━━━━━━━━━━━━━━━━━━━━━━━━━━━━━━━━━━━━━━━━━━━━┳━━━━━━━━━━━━━━━━━━━━━━━━━━━━━━━━━━━━━━━━━━━━━━┳━━━━━━━━━━━━━━━━━━┓\n",
       "┃\u001b[1m \u001b[0m\u001b[1mchosen_text                                  \u001b[0m\u001b[1m \u001b[0m┃\u001b[1m \u001b[0m\u001b[1mrejected_text                               \u001b[0m\u001b[1m \u001b[0m┃\u001b[1m \u001b[0m\u001b[1mlogits          \u001b[0m\u001b[1m \u001b[0m┃\n",
       "┡━━━━━━━━━━━━━━━━━━━━━━━━━━━━━━━━━━━━━━━━━━━━━━━╇━━━━━━━━━━━━━━━━━━━━━━━━━━━━━━━━━━━━━━━━━━━━━━╇━━━━━━━━━━━━━━━━━━┩\n",
       "│                                               │                                              │ [0.9989, 0.0011] │\n",
       "│                                               │                                              │                  │\n",
       "│ Human: What are the best travel tips for a    │ Human: What are the best travel tips for a   │                  │\n",
       "│ last minute road trip.                        │ last minute road trip.                       │                  │\n",
       "│                                               │                                              │                  │\n",
       "│ Assistant: Make sure to plan your route in    │ Assistant: Do you need an overview, or do    │                  │\n",
       "│ advance.                                      │ you just want some quick tips.               │                  │\n",
       "│ 2. Pack lightly and bring only what you will  │                                              │                  │\n",
       "│ need.                                         │                                              │                  │\n",
       "│ 3. Bring snacks and drinks for the journey.   │                                              │                  │\n",
       "│ 4. Bring a charged cell phone in case of      │                                              │                  │\n",
       "│ emergencies.                                  │                                              │                  │\n",
       "│ 5. Map out your stops for meals and rest.     │                                              │                  │\n",
       "│ 6. Bring a first aid kit just in case.        │                                              │                  │\n",
       "│ 7. Research the areas you are traveling       │                                              │                  │\n",
       "│ through and plan accordingly.                 │                                              │                  │\n",
       "│ 8. Bring entertainment such as music, books,  │                                              │                  │\n",
       "│ and games to enjoy along the way.             │                                              │                  │\n",
       "│ 9. Dress comfortably and wear layers to       │                                              │                  │\n",
       "│ accommodate changing temperatures.            │                                              │                  │\n",
       "│ 10. Stay alert and take regular breaks to     │                                              │                  │\n",
       "│ avoid exhaustion.                             │                                              │                  │\n",
       "├───────────────────────────────────────────────┼──────────────────────────────────────────────┼──────────────────┤\n",
       "│                                               │                                              │ [1.0, 0.0]       │\n",
       "│                                               │                                              │                  │\n",
       "│ Human: I am trying to figure out the best way │ Human: I am trying to figure out the best    │                  │\n",
       "│ to save for retirement.                       │ way to save for retirement.                  │                  │\n",
       "│                                               │                                              │                  │\n",
       "│ Assistant: The best way to save for           │ Assistant: I’m looking at it. Does it make   │                  │\n",
       "│ retirement is to start as soon as possible.   │ sense that if someone is trying to spend     │                  │\n",
       "│ Contributing to an employer-sponsored         │ money on something, that it means the person │                  │\n",
       "│ retirement plan, such as a 401(k) or an       │ is also going to spending money on           │                  │\n",
       "│ Individual Retirement Account (IRA), can help │ something, in a way that is good? Or bad? Or │                  │\n",
       "│ you save and invest for the future. Experts   │ if the person is on a level, but the         │                  │\n",
       "│ recommend contributing at least 10-15% of     │ organization is just a puppet? How does that │                  │\n",
       "│ your income to retirement savings. Consider   │ work.                                        │                  │\n",
       "│ contributing any additional funds from        │                                              │                  │\n",
       "│ bonuses, raises or other sources of income to │                                              │                  │\n",
       "│ boost your retirement savings. Consult with a │                                              │                  │\n",
       "│ financial advisor to determine the best       │                                              │                  │\n",
       "│ retirement savings plan for your lifestyle    │                                              │                  │\n",
       "│ and goals.                                    │                                              │                  │\n",
       "├───────────────────────────────────────────────┼──────────────────────────────────────────────┼──────────────────┤\n",
       "│                                               │                                              │ [1.0, 0.0]       │\n",
       "│                                               │                                              │                  │\n",
       "│ Human: Is veganism a healthier lifestyle than │ Human: Is veganism a healthier lifestyle     │                  │\n",
       "│ omnivore.                                     │ than omnivore.                               │                  │\n",
       "│                                               │                                              │                  │\n",
       "│ Assistant: It depends on the individual, but  │ Assistant: The term “veganism” can apply to  │                  │\n",
       "│ studies have shown that veganism can lead to  │ a whole bunch of other types of cooking, so  │                  │\n",
       "│ health benefits, such as lower risk of heart  │ there is a basic answer that is really hard. │                  │\n",
       "│ disease, diabetes, and some types of cancer.  │ Generally, if we think about “health”        │                  │\n",
       "│ Vegans also tend to consume less saturated    │ broadly, we can say that veganics are about  │                  │\n",
       "│ fat and have higher levels of certain         │ balancing what we call “nutrients” (a word   │                  │\n",
       "│ vitamins, minerals, and antioxidants.         │ we come for your diet) on a “calorie” basis, │                  │\n",
       "│ However, it's important to note that an       │ but there are lots of good sources of        │                  │\n",
       "│ omnivore diet can also provide certain health │ controversy over how this is a good or bad   │                  │\n",
       "│ benefits. Ultimately, a healthier lifestyle   │ thing.  I guess to make myself, if I had to  │                  │\n",
       "│ may depend on the individual's specific       │ choose between a vegan diet or an omnivorous │                  │\n",
       "│ nutritional needs, dietary habits, and        │ diet, I would probably pick the former,      │                  │\n",
       "│ overall health status.                        │ because it’s better for me to eat more       │                  │\n",
       "│                                               │ plants.  But then we wouldn’t really know    │                  │\n",
       "│                                               │ anything about the effect of cooking those   │                  │\n",
       "│                                               │ meals.                                       │                  │\n",
       "├───────────────────────────────────────────────┼──────────────────────────────────────────────┼──────────────────┤\n",
       "│                                               │                                              │ [1.0, 0.0]       │\n",
       "│                                               │                                              │                  │\n",
       "│ Human: What is the best way to fix my squeaky │ Human: What is the best way to fix my        │                  │\n",
       "│ door.                                         │ squeaky door.                                │                  │\n",
       "│                                               │                                              │                  │\n",
       "│ Assistant: The best way to fix a squeaky door │ Assistant: Hm, there are various fixative    │                  │\n",
       "│ is to lubricate the hinges and door parts     │ models out there, but maybe something like   │                  │\n",
       "│ with a lubricating product, such as WD-40 or  │ this is best?  Alternatively, this could     │                  │\n",
       "│ a lubricant specifically designed for door    │ also be a “sorites” problem, in which the    │                  │\n",
       "│ tracks. Additionally, you may need to adjust  │ threads are very tight and just need to be   │                  │\n",
       "│ the hinges and tighten the screws to ensure   │ slightly loosened, or possibly a “lathening” │                  │\n",
       "│ the door is properly aligned and swings       │ problem, in which they are just not straight │                  │\n",
       "│ seamlessly.                                   │ when they die.                               │                  │\n",
       "└───────────────────────────────────────────────┴──────────────────────────────────────────────┴──────────────────┘\n"
      ]
     },
     "metadata": {},
     "output_type": "display_data"
    },
    {
     "name": "stderr",
     "output_type": "stream",
     "text": [
      "100%|██████████| 827/827 [02:29<00:00,  5.53it/s]"
     ]
    },
    {
     "name": "stdout",
     "output_type": "stream",
     "text": [
      "{'eval_loss': 0.06061822921037674, 'eval_accuracy': 0.9785141473747919, 'eval_runtime': 149.6904, 'eval_samples_per_second': 44.151, 'eval_steps_per_second': 5.525, 'epoch': 0.999697428139183}\n",
      "[1.0507, 1.0173, 0.8861, 0.6052, 0.4053, 0.2732, 0.1933, 0.1552, 0.1019, 0.1196, 0.0997, 0.1034, 0.1103, 0.0798, 0.1031, 0.0608, 0.0804, 0.0867, 0.0601, 0.0556, 0.0926, 0.0868, 0.0634, 0.0621, 0.0582]\n"
     ]
    },
    {
     "name": "stderr",
     "output_type": "stream",
     "text": [
      "\n"
     ]
    },
    {
     "data": {
      "image/png": "[encoded data removed]",
      "text/plain": [
       "<Figure size 1000x500 with 1 Axes>"
      ]
     },
     "metadata": {},
     "output_type": "display_data"
    }
   ],
   "source": [
    "# Evaluate the training of the model\n",
    "metrics = trainer.evaluate()\n",
    "print(metrics)\n",
    "\n",
    "model.config.save_pretrained(\"./backup\")\n",
    "\n",
    "log_history = trainer.state.log_history\n",
    "\n",
    "train_loss = [log[\"loss\"] for log in log_history if \"loss\" in log]\n",
    "print(train_loss)\n",
    "# Plot the training loss\n",
    "plt.figure(figsize=(10, 5))\n",
    "plt.plot(train_loss, label='Training Loss')\n",
    "\n",
    "plt.xlabel('Steps')\n",
    "plt.ylabel('Loss')\n",
    "plt.title('Training Loss')\n",
    "plt.legend()\n",
    "plt.show()"
   ]
  },
  {
   "cell_type": "markdown",
   "metadata": {},
   "source": [
    "Evaluation of the fine-tuned model:"
   ]
  },
  {
   "cell_type": "code",
   "execution_count": 26,
   "metadata": {},
   "outputs": [
    {
     "name": "stderr",
     "output_type": "stream",
     "text": [
      "Some weights of GPT2ForSequenceClassification were not initialized from the model checkpoint at gpt2 and are newly initialized: ['score.weight']\n",
      "You should probably TRAIN this model on a down-stream task to be able to use it for predictions and inference.\n"
     ]
    }
   ],
   "source": [
    "# Load fine-tuned model\n",
    "device = torch.device(\"cuda\" if torch.cuda.is_available() else \"cpu\")\n",
    "model = GPT2ForSequenceClassification.from_pretrained(\"reward_modeling\", num_labels=1)\n",
    "model = model.to(device)"
   ]
  },
  {
   "cell_type": "code",
   "execution_count": 30,
   "metadata": {},
   "outputs": [],
   "source": [
    "def get_logits(text):\n",
    "    inputs = tokenizer(text, return_tensors=\"pt\", padding=True, truncation=True, max_length=1024)\n",
    "    inputs = {k: v.to(device) for k, v in inputs.items()}\n",
    "    with torch.no_grad():\n",
    "        outputs = model(**inputs)\n",
    "    logits = outputs.logits.squeeze().item()\n",
    "    return logits"
   ]
  },
  {
   "cell_type": "code",
   "execution_count": 38,
   "metadata": {},
   "outputs": [
    {
     "name": "stdout",
     "output_type": "stream",
     "text": [
      "### Chosen Text:\n",
      "\n",
      "Human: I was wondering if you could walk me through the process of setting up a hydroponic garden for herbs.\n",
      "\n",
      "Assistant: Sure! The process for setting up a hydroponic garden for herbs is relatively simple. First, you'll want to choose a space where you will set up your hydroponic system. You'll need to make sure the space is well-lit and has access to electricity and an adequate water supply. Next, you'll need to choose the type of hydroponic system you want to use. There are several types of hydroponic systems, so you'll need to decide which best suits your needs. Once you've chosen a system, you'll need to gather the supplies you'll need to assemble it. This includes things like pumps, growing trays, grow lights, and nutrients. Once you've assembled the system, you'll need to add your choice of herbs to the system. Lastly, you'll need to monitor and adjust the system as needed to ensure your herbs are getting the correct amount of light, water, and nutrients.\n",
      "\n",
      "\n",
      "### Score: 9.41307544708252\n",
      "\n",
      "--------------------------------------------------\n",
      "### Rejected Text:\n",
      "\n",
      "Human: I was wondering if you could walk me through the process of setting up a hydroponic garden for herbs.\n",
      "\n",
      "Assistant: How do I store a bagels for eating at a later date?\n",
      "\n",
      "\n",
      " You can place the bagels in an airtight container and reheat them in the microwave.  Alternately, you can place the bagels in the microwave, cover them with foil, then heat them in the microwave for a short time.\n",
      "\n",
      "\n",
      "### Score: -0.00610700249671936\n",
      "\n",
      "--------------------------------------------------\n"
     ]
    }
   ],
   "source": [
    "text=train_str['chosen'][0]\n",
    "logits = get_logits(text=text)\n",
    "print(f\"### Chosen Text:{text}\\n\\n\\n### Score: {logits}\\n\")\n",
    "print(\"-\"*50)\n",
    "\n",
    "text=train_str['rejected'][0]\n",
    "logits = get_logits(text=text)\n",
    "print(f\"### Rejected Text:{text}\\n\\n\\n### Score: {logits}\\n\")\n",
    "print(\"-\"*50)"
   ]
  },
  {
   "cell_type": "code",
   "execution_count": 45,
   "metadata": {},
   "outputs": [
    {
     "name": "stdout",
     "output_type": "stream",
     "text": [
      "### Chosen Text:\n",
      "\n",
      "Human: Can you help me find a good summer internship.\n",
      "\n",
      "Assistant: Sure, finding a good summer internship can be a great way to gain useful experience. What type of internship are you looking for? What kind of skills and experience do you have.\n",
      "\n",
      "\n",
      "### Score: 0.9657723903656006\n",
      "\n",
      "### Rejected Text:\n",
      "\n",
      "Human: Can you help me find a good summer internship.\n",
      "\n",
      "Assistant: Search online for a variety of terms related to how much money you’d be able to make while working as a summer intern.\n",
      "\n",
      "2. Search for a list of employers that have a summer internship, and send out your resume to these employers.\n",
      "\n",
      "3. Consider other ways to get money while working as a summer intern.\n",
      "\n",
      "\n",
      "### Score: 6.298035144805908\n",
      "\n",
      "### Chosen Text:\n",
      "\n",
      "Human: Can you recommend me resources on starting an e-commerce business.\n",
      "\n",
      "Assistant: Yes, I can recommend the following resources on starting an e-commerce business: \n",
      "1. The Small Business Administration’s guide to E-commerce: https://www.sba.gov/business-guide/launch-your-business/e-commerce \n",
      "2. The U.S. Chamber of Commerce’s E-commerce Guide: https://www.uschamber.com/series/start-an-online-business/guide-what-you-need-know-about-ecommerce \n",
      "3. Shopify’s guide to e-commerce success: https://www.shopify.ca/blog/ecommerce-strategy \n",
      "4. Inc.com’s 10 Steps to Starting an E-commerce Business: https://www.inc.com/bill-saporito/10-steps-to-starting-an-ecommerce-business.html.\n",
      "\n",
      "\n",
      "### Score: 1.2171993255615234\n",
      "\n",
      "### Rejected Text:\n",
      "\n",
      "Human: Can you recommend me resources on starting an e-commerce business.\n",
      "\n",
      "Assistant: If you are interested in starting an e-commerce business, I can direct you to online resources, but this would depend on what type of business you want to start. For example, e-commerce sites may offer a variety of products, such as ebooks, online courses, online courses, and online courses for businesses, or e-commerce sites may just offer support services.\n",
      "\n",
      "\n",
      "### Score: 7.811222076416016\n",
      "\n"
     ]
    }
   ],
   "source": [
    "import random\n",
    "\n",
    "correct = 0\n",
    "total = 0\n",
    "\n",
    "for i in range(len(train_str['chosen'])):\n",
    "    chosen = train_str['chosen'][i]\n",
    "    rejected = train_str['rejected'][i]\n",
    "\n",
    "    logits_chosen = get_logits(text=chosen)\n",
    "    logits_rejected = get_logits(text=rejected)\n",
    "\n",
    "    if logits_chosen > logits_rejected:\n",
    "        correct += 1\n",
    "    else:\n",
    "        if random.random() < 0.1 and abs(logits_chosen-logits_rejected)>5: #Print 10% of misclassified responses\n",
    "            print(f\"### Chosen Text:{chosen}\\n\\n\\n### Score: {logits_chosen}\\n\")\n",
    "            print(f\"### Rejected Text:{rejected}\\n\\n\\n### Score: {logits_rejected}\\n\")\n",
    "    total += 1"
   ]
  },
  {
   "cell_type": "code",
   "execution_count": 46,
   "metadata": {},
   "outputs": [
    {
     "name": "stdout",
     "output_type": "stream",
     "text": [
      "Accuracy: 97.79%\n"
     ]
    }
   ],
   "source": [
    "print(f\"Accuracy: {correct / total * 100:.2f}%\")"
   ]
  }
 ],
 "metadata": {
  "kernelspec": {
   "display_name": "llm",
   "language": "python",
   "name": "python3"
  },
  "language_info": {
   "codemirror_mode": {
    "name": "ipython",
    "version": 3
   },
   "file_extension": ".py",
   "mimetype": "text/x-python",
   "name": "python",
   "nbconvert_exporter": "python",
   "pygments_lexer": "ipython3",
   "version": "3.12.8"
  }
 },
 "nbformat": 4,
 "nbformat_minor": 2
}
